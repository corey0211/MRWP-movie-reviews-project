{
 "cells": [
  {
   "cell_type": "code",
   "execution_count": 2,
   "id": "74f50279",
   "metadata": {},
   "outputs": [],
   "source": [
    "import networkx as nx\n",
    "import pandas as pd\n",
    "import numpy as np\n",
    "import matplotlib.pyplot as plt\n",
    "from tqdm import tqdm\n",
    "import time\n",
    "#from movies.txt import final_df\n",
    "\n",
    "sample_df = pd.read_csv(\"SampleDataset.csv\")\n",
    "full_df = pd.read_csv(\"CompleteDataWithGenres.csv\")\n",
    "\n",
    "data = {'Movie':['1', '2', '3', '2', '4', '5', '1', '2', '6', '4'],\n",
    "        'User': ['a', 'a', 'a', 'b', 'b', 'c', 'd', 'c', 'd', 'c']}\n",
    "test = pd.DataFrame(data)\n",
    "\n",
    "G = nx.Graph()"
   ]
  },
  {
   "cell_type": "code",
   "execution_count": 3,
   "id": "ccdc3af1",
   "metadata": {},
   "outputs": [],
   "source": [
    "#a variation of an exising function to account for repeated nodes\n",
    "def my_add_node(movie1,graph):\n",
    "    if movie1 in graph:\n",
    "        return\n",
    "    else:\n",
    "        graph.add_node(movie1)"
   ]
  },
  {
   "cell_type": "code",
   "execution_count": 4,
   "id": "204d5f85",
   "metadata": {},
   "outputs": [],
   "source": [
    "        \n",
    "#a variation of an existing function to account for repeated edges\n",
    "def my_add_edge(movie1, movie2, graph):\n",
    "    if graph.has_edge(movie1, movie2):\n",
    "        graph[movie1][movie2]['weight'] += 1\n",
    "    else:\n",
    "        graph.add_edge(movie1, movie2, weight = 1)\n",
    " "
   ]
  },
  {
   "cell_type": "code",
   "execution_count": 7,
   "id": "56412dfb",
   "metadata": {},
   "outputs": [],
   "source": [
    "def main(df):\n",
    "    df = df.reset_index()\n",
    "    for i in tqdm(range(df.shape[0])):\n",
    "        mc = df.at[i, 'Movie']\n",
    "        my_add_node(mc, G)\n",
    "        uc = df.at[i, 'User']\n",
    "        df = df.drop(index = i)\n",
    "        dfl = df.loc[df['User'] == uc] \n",
    "        lst = dfl['Movie'].tolist()\n",
    "        for j in lst:\n",
    "            my_add_node(j, G)\n",
    "            my_add_edge(mc, j, G)\n",
    " "
   ]
  },
  {
   "cell_type": "code",
   "execution_count": 8,
   "id": "9690f10e",
   "metadata": {},
   "outputs": [
    {
     "name": "stderr",
     "output_type": "stream",
     "text": [
      "100%|█████████████████████████████████████████████████████████████████████████████████| 10/10 [00:00<00:00, 587.20it/s]\n"
     ]
    }
   ],
   "source": [
    "main(test)"
   ]
  },
  {
   "cell_type": "code",
   "execution_count": 9,
   "id": "d8008657",
   "metadata": {},
   "outputs": [
    {
     "data": {
      "image/png": "[encoded data removed]",
      "text/plain": [
       "<Figure size 432x288 with 1 Axes>"
      ]
     },
     "metadata": {},
     "output_type": "display_data"
    }
   ],
   "source": [
    "pos = nx.random_layout(G)\n",
    "nx.draw(G, pos)\n",
    "labels = nx.get_edge_attributes(G,'weight')\n",
    "nx.draw_networkx_edge_labels(G,pos,edge_labels=labels)\n",
    "plt.savefig('TestNetwork.png')\n",
    "plt.show()"
   ]
  },
  {
   "cell_type": "code",
   "execution_count": null,
   "id": "edb89fc3",
   "metadata": {},
   "outputs": [],
   "source": [
    "t = time.time()\n",
    "main(sample_df)\n",
    "print(time.time()-t)\n",
    "nx.write_weighted_edgelist(G, 'CompleteNetwork.csv')\n",
    "        "
   ]
  },
  {
   "cell_type": "code",
   "execution_count": null,
   "id": "a9c6b6c7",
   "metadata": {},
   "outputs": [],
   "source": [
    "pos = nx.random_layout(G)\n",
    "nx.draw(G, pos)\n",
    "labels = nx.get_edge_attributes(G,'weight')\n",
    "nx.draw_networkx_edge_labels(G,pos,edge_labels=labels)\n",
    "plt.savefig('SampleNetwork.png')\n",
    "plt.show()"
   ]
  },
  {
   "cell_type": "code",
   "execution_count": null,
   "id": "5e77fece",
   "metadata": {},
   "outputs": [],
   "source": [
    "#this one tries to render the complete network\n",
    "main(full_df) "
   ]
  }
 ],
 "metadata": {
  "kernelspec": {
   "display_name": "Python 3 (ipykernel)",
   "language": "python",
   "name": "python3"
  },
  "language_info": {
   "codemirror_mode": {
    "name": "ipython",
    "version": 3
   },
   "file_extension": ".py",
   "mimetype": "text/x-python",
   "name": "python",
   "nbconvert_exporter": "python",
   "pygments_lexer": "ipython3",
   "version": "3.9.13"
  }
 },
 "nbformat": 4,
 "nbformat_minor": 5
}
