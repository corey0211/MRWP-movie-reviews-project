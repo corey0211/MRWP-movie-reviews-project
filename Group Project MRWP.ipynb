{
 "cells": [
  {
   "cell_type": "code",
   "execution_count": 1,
   "id": "29d713a7",
   "metadata": {},
   "outputs": [],
   "source": [
    "import re\n",
    "import gzip\n",
    "import shutil\n",
    "import pandas as pd"
   ]
  },
  {
   "cell_type": "code",
   "execution_count": null,
   "id": "f25023f8",
   "metadata": {},
   "outputs": [],
   "source": [
    "with gzip.open('movies.txt.gz', 'rb') as f_in:\n",
    "    with open('movies.txt', 'wb') as f_out:\n",
    "        shutil.copyfileobj(f_in, f_out)"
   ]
  },
  {
   "cell_type": "code",
   "execution_count": 2,
   "id": "133a5736",
   "metadata": {},
   "outputs": [],
   "source": [
    "with open('movies.txt', errors='ignore') as f: # errors replace\n",
    "    lines = f.readlines()"
   ]
  },
  {
   "cell_type": "code",
   "execution_count": 3,
   "id": "60a4418e",
   "metadata": {},
   "outputs": [
    {
     "data": {
      "text/plain": [
       "['product/productId: B003AI2VGA\\n',\n",
       " 'review/userId: A141HP4LYPWMSR\\n',\n",
       " 'review/profileName: Brian E. Erland \"Rainbow Sphinx\"\\n',\n",
       " 'review/helpfulness: 7/7\\n',\n",
       " 'review/score: 3.0\\n',\n",
       " 'review/time: 1182729600\\n',\n",
       " 'review/summary: \"There Is So Much Darkness Now ~ Come For The Miracle\"\\n',\n",
       " 'review/text: Synopsis: On the daily trek from Juarez, Mexico to El Paso, Texas an ever increasing number of female workers are found raped and murdered in the surrounding desert. Investigative reporter Karina Danes (Minnie Driver) arrives from Los Angeles to pursue the story and angers both the local police and the factory owners who employee the undocumented aliens with her pointed questions and relentless quest for the truth.<br /><br />Her story goes nationwide when a young girl named Mariela (Ana Claudia Talancon) survives a vicious attack and walks out of the desert crediting the Blessed Virgin for her rescue. Her story is further enhanced when the \"Wounds of Christ\" (stigmata) appear in her palms. She also claims to have received a message of hope for the Virgin Mary and soon a fanatical movement forms around her to fight against the evil that holds such a stranglehold on the area.<br /><br />Critique: Possessing a lifelong fascination with such esoteric matters as Catholic mysticism, miracles and the mysterious appearance of the stigmata, I was immediately attracted to the \\'05 DVD release `Virgin of Juarez\\'. The film offers a rather unique storyline blending current socio-political concerns, the constant flow of Mexican migrant workers back and forth across the U.S./Mexican border and the traditional Catholic beliefs of the Hispanic population. I must say I was quite surprised by the unexpected route taken by the plot and the means and methods by which the heavenly message unfolds.<br /><br />`Virgin of Juarez\\' is not a film that you would care to watch over and over again, but it was interesting enough to merit at least one viewing. Minnie Driver delivers a solid performance and Ana Claudia Talancon is perfect as the fragile and innocent visionary Mariela. Also starring Esai Morales and Angus Macfadyen (Braveheart).\\n',\n",
       " '\\n']"
      ]
     },
     "execution_count": 3,
     "metadata": {},
     "output_type": "execute_result"
    }
   ],
   "source": [
    "lines[:9]"
   ]
  },
  {
   "cell_type": "code",
   "execution_count": 5,
   "id": "b7e4bc32",
   "metadata": {},
   "outputs": [],
   "source": [
    "clean_reviews = [line for line in lines if re.findall(r\"product/productId|review/userId|review/score\", line) != []]"
   ]
  },
  {
   "cell_type": "code",
   "execution_count": 6,
   "id": "f7cafe87",
   "metadata": {},
   "outputs": [
    {
     "data": {
      "text/plain": [
       "['product/productId: B003AI2VGA\\n',\n",
       " 'review/userId: A141HP4LYPWMSR\\n',\n",
       " 'review/score: 3.0\\n',\n",
       " 'product/productId: B003AI2VGA\\n',\n",
       " 'review/userId: A328S9RN3U5M68\\n',\n",
       " 'review/score: 3.0\\n',\n",
       " 'product/productId: B003AI2VGA\\n',\n",
       " 'review/userId: A1I7QGUDP043DG\\n',\n",
       " 'review/score: 5.0\\n']"
      ]
     },
     "execution_count": 6,
     "metadata": {},
     "output_type": "execute_result"
    }
   ],
   "source": [
    "clean_reviews[:9]"
   ]
  },
  {
   "cell_type": "code",
   "execution_count": 12,
   "id": "b85fe721",
   "metadata": {},
   "outputs": [],
   "source": [
    "num_prodcts = len([line for line in clean_reviews if \"product/productId\" in line])\n",
    "num_users = len([line for line in clean_reviews if \"review/userId\" in line])\n",
    "num_score = len([line for line in clean_reviews if \"review/score\" in line])"
   ]
  },
  {
   "cell_type": "code",
   "execution_count": 14,
   "id": "6ceb870d",
   "metadata": {},
   "outputs": [
    {
     "name": "stdout",
     "output_type": "stream",
     "text": [
      "7911684 reviews with each three pieces of information\n"
     ]
    }
   ],
   "source": [
    "if num_prodcts == num_users == num_score:\n",
    "    print(num_prodcts, \"complete reviews with each three pieces of information\")"
   ]
  },
  {
   "cell_type": "code",
   "execution_count": 16,
   "id": "34495cbd",
   "metadata": {},
   "outputs": [],
   "source": [
    "cat_list = ['product/productId: ', 'review/userId: ', 'review/score: ', '\\n']\n",
    "final = [re.sub(\"|\".join(cat_list), \"\", lne) for lne in clean_reviews]"
   ]
  },
  {
   "cell_type": "code",
   "execution_count": 19,
   "id": "d19a47d6",
   "metadata": {},
   "outputs": [],
   "source": [
    "# !! This code line takes really long to run\n",
    "chunks = [final[i:i+3] for i in range(0, len(final), 3)]"
   ]
  },
  {
   "cell_type": "code",
   "execution_count": 20,
   "id": "af3624a0",
   "metadata": {},
   "outputs": [
    {
     "data": {
      "text/plain": [
       "[['B003AI2VGA', 'A141HP4LYPWMSR', '3.0'],\n",
       " ['B003AI2VGA', 'A328S9RN3U5M68', '3.0'],\n",
       " ['B003AI2VGA', 'A1I7QGUDP043DG', '5.0']]"
      ]
     },
     "execution_count": 20,
     "metadata": {},
     "output_type": "execute_result"
    }
   ],
   "source": [
    "chunks[:3]"
   ]
  },
  {
   "cell_type": "code",
   "execution_count": 21,
   "id": "99d17aad",
   "metadata": {},
   "outputs": [],
   "source": [
    "all_movies = set([rvw[0] for rvw in chunks])\n",
    "all_users = set([rvw[1] for rvw in chunks])\n",
    "all_stars = set([rvw[2] for rvw in chunks])"
   ]
  },
  {
   "cell_type": "code",
   "execution_count": 22,
   "id": "115d0d82",
   "metadata": {},
   "outputs": [
    {
     "name": "stdout",
     "output_type": "stream",
     "text": [
      "Number of different movies reviewed: 253059\n",
      "Number of different users: 889176\n",
      "Number of different scores: 5\n"
     ]
    }
   ],
   "source": [
    "print(\"Number of different movies reviewed:\", len(all_movies))\n",
    "print(\"Number of different users:\", len(all_users))\n",
    "print(\"Number of different scores:\", len(all_stars))"
   ]
  },
  {
   "cell_type": "code",
   "execution_count": 23,
   "id": "a68a3a05",
   "metadata": {},
   "outputs": [
    {
     "data": {
      "text/plain": [
       "{'1.0', '2.0', '3.0', '4.0', '5.0'}"
      ]
     },
     "execution_count": 23,
     "metadata": {},
     "output_type": "execute_result"
    }
   ],
   "source": [
    "all_stars"
   ]
  },
  {
   "cell_type": "code",
   "execution_count": 24,
   "id": "966b135b",
   "metadata": {},
   "outputs": [],
   "source": [
    "good_reviews = [rvw for rvw in chunks if rvw[2]!='1.0' and rvw[2]!='2.0']"
   ]
  },
  {
   "cell_type": "code",
   "execution_count": 26,
   "id": "b92d7382",
   "metadata": {},
   "outputs": [
    {
     "data": {
      "text/plain": [
       "6826953"
      ]
     },
     "execution_count": 26,
     "metadata": {},
     "output_type": "execute_result"
    }
   ],
   "source": [
    "len(good_reviews)"
   ]
  },
  {
   "cell_type": "code",
   "execution_count": 27,
   "id": "8c3e84cc",
   "metadata": {},
   "outputs": [
    {
     "data": {
      "text/plain": [
       "6035359"
      ]
     },
     "execution_count": 27,
     "metadata": {},
     "output_type": "execute_result"
    }
   ],
   "source": [
    "good_reviews_alt = [rvw for rvw in good_reviews if rvw[2]!='3.0']\n",
    "len(good_reviews_alt)"
   ]
  },
  {
   "cell_type": "code",
   "execution_count": 29,
   "id": "3fcf8ce6",
   "metadata": {},
   "outputs": [],
   "source": [
    "# !! Similar as above\n",
    "review_dict = [{rvw[1]: [rvw[0], rvw[2]]} for rvw in good_reviews_alt]"
   ]
  },
  {
   "cell_type": "code",
   "execution_count": 36,
   "id": "7e125b6b",
   "metadata": {},
   "outputs": [],
   "source": [
    "df = pd.DataFrame(good_reviews_alt, columns=[\"Movie\", \"User\", \"Score\"])"
   ]
  },
  {
   "cell_type": "code",
   "execution_count": 39,
   "id": "9e002c92",
   "metadata": {},
   "outputs": [
    {
     "data": {
      "text/html": [
       "<div>\n",
       "<style scoped>\n",
       "    .dataframe tbody tr th:only-of-type {\n",
       "        vertical-align: middle;\n",
       "    }\n",
       "\n",
       "    .dataframe tbody tr th {\n",
       "        vertical-align: top;\n",
       "    }\n",
       "\n",
       "    .dataframe thead th {\n",
       "        text-align: right;\n",
       "    }\n",
       "</style>\n",
       "<table border=\"1\" class=\"dataframe\">\n",
       "  <thead>\n",
       "    <tr style=\"text-align: right;\">\n",
       "      <th></th>\n",
       "      <th>Movie</th>\n",
       "      <th>User</th>\n",
       "      <th>Score</th>\n",
       "    </tr>\n",
       "  </thead>\n",
       "  <tbody>\n",
       "    <tr>\n",
       "      <th>0</th>\n",
       "      <td>B003AI2VGA</td>\n",
       "      <td>A1I7QGUDP043DG</td>\n",
       "      <td>5.0</td>\n",
       "    </tr>\n",
       "    <tr>\n",
       "      <th>1</th>\n",
       "      <td>B00006HAXW</td>\n",
       "      <td>AD4CDZK7D31XP</td>\n",
       "      <td>5.0</td>\n",
       "    </tr>\n",
       "    <tr>\n",
       "      <th>2</th>\n",
       "      <td>B00006HAXW</td>\n",
       "      <td>A3Q4S5DFVPB70D</td>\n",
       "      <td>5.0</td>\n",
       "    </tr>\n",
       "    <tr>\n",
       "      <th>3</th>\n",
       "      <td>B00006HAXW</td>\n",
       "      <td>A2P7UB02HAVEPB</td>\n",
       "      <td>5.0</td>\n",
       "    </tr>\n",
       "    <tr>\n",
       "      <th>4</th>\n",
       "      <td>B00006HAXW</td>\n",
       "      <td>A2TX99AZKDK0V7</td>\n",
       "      <td>4.0</td>\n",
       "    </tr>\n",
       "    <tr>\n",
       "      <th>5</th>\n",
       "      <td>B00006HAXW</td>\n",
       "      <td>AFC8IKR407HSK</td>\n",
       "      <td>5.0</td>\n",
       "    </tr>\n",
       "    <tr>\n",
       "      <th>6</th>\n",
       "      <td>B00006HAXW</td>\n",
       "      <td>A1FRPGQYQTAOR1</td>\n",
       "      <td>5.0</td>\n",
       "    </tr>\n",
       "    <tr>\n",
       "      <th>7</th>\n",
       "      <td>B00006HAXW</td>\n",
       "      <td>A1RSDE90N6RSZF</td>\n",
       "      <td>5.0</td>\n",
       "    </tr>\n",
       "    <tr>\n",
       "      <th>8</th>\n",
       "      <td>B00006HAXW</td>\n",
       "      <td>A1OUBOGB5970AO</td>\n",
       "      <td>4.0</td>\n",
       "    </tr>\n",
       "    <tr>\n",
       "      <th>9</th>\n",
       "      <td>B00006HAXW</td>\n",
       "      <td>A3NPHQVIY59Y0Y</td>\n",
       "      <td>5.0</td>\n",
       "    </tr>\n",
       "  </tbody>\n",
       "</table>\n",
       "</div>"
      ],
      "text/plain": [
       "        Movie            User Score\n",
       "0  B003AI2VGA  A1I7QGUDP043DG   5.0\n",
       "1  B00006HAXW   AD4CDZK7D31XP   5.0\n",
       "2  B00006HAXW  A3Q4S5DFVPB70D   5.0\n",
       "3  B00006HAXW  A2P7UB02HAVEPB   5.0\n",
       "4  B00006HAXW  A2TX99AZKDK0V7   4.0\n",
       "5  B00006HAXW   AFC8IKR407HSK   5.0\n",
       "6  B00006HAXW  A1FRPGQYQTAOR1   5.0\n",
       "7  B00006HAXW  A1RSDE90N6RSZF   5.0\n",
       "8  B00006HAXW  A1OUBOGB5970AO   4.0\n",
       "9  B00006HAXW  A3NPHQVIY59Y0Y   5.0"
      ]
     },
     "execution_count": 39,
     "metadata": {},
     "output_type": "execute_result"
    }
   ],
   "source": [
    "df.head(10)"
   ]
  },
  {
   "cell_type": "code",
   "execution_count": 40,
   "id": "1ef2b1a8",
   "metadata": {},
   "outputs": [],
   "source": [
    "num_rvw_users = df['User'].value_counts()"
   ]
  },
  {
   "cell_type": "code",
   "execution_count": 62,
   "id": "9cfd378d",
   "metadata": {},
   "outputs": [
    {
     "name": "stdout",
     "output_type": "stream",
     "text": [
      "<class 'pandas.core.series.Series'>\n",
      "738205\n"
     ]
    },
    {
     "data": {
      "text/plain": [
       "A16CZRQL23NOIW    10151\n",
       "A2NJO6YE954DBH     8127\n",
       "A10ODC971MDHV8     7548\n",
       "A35ZK3M8L9JUPX     7507\n",
       "A39CX0EE4BZCZC     6641\n",
       "ANCOMAI0I7LVG      6585\n",
       "A328S9RN3U5M68     6085\n",
       "A3LZGLA88K0LA0     5880\n",
       "A3UDYY6L2NH3JS     5737\n",
       "AIMR915K4YCN       5674\n",
       "Name: User, dtype: int64"
      ]
     },
     "execution_count": 62,
     "metadata": {},
     "output_type": "execute_result"
    }
   ],
   "source": [
    "print(type(num_rvw_users))\n",
    "print(len(num_rvw_users))\n",
    "num_rvw_users[:10]"
   ]
  },
  {
   "cell_type": "code",
   "execution_count": 63,
   "id": "639f5a9f",
   "metadata": {},
   "outputs": [],
   "source": [
    "dict_user = dict(num_rvw_users)"
   ]
  },
  {
   "cell_type": "code",
   "execution_count": 65,
   "id": "de946cf1",
   "metadata": {},
   "outputs": [
    {
     "data": {
      "text/plain": [
       "505797"
      ]
     },
     "execution_count": 65,
     "metadata": {},
     "output_type": "execute_result"
    }
   ],
   "source": [
    "over_one = [key for key in dict_user.keys() if dict_user[key]!=1]\n",
    "len(over_one)"
   ]
  },
  {
   "cell_type": "code",
   "execution_count": 66,
   "id": "789ab832",
   "metadata": {},
   "outputs": [],
   "source": [
    "final_df = df[df['User'].isin(over_one)].reset_index(drop=True)"
   ]
  },
  {
   "cell_type": "code",
   "execution_count": 67,
   "id": "605357ec",
   "metadata": {},
   "outputs": [
    {
     "name": "stdout",
     "output_type": "stream",
     "text": [
      "<class 'pandas.core.frame.DataFrame'>\n",
      "RangeIndex: 5802951 entries, 0 to 5802950\n",
      "Data columns (total 3 columns):\n",
      " #   Column  Dtype \n",
      "---  ------  ----- \n",
      " 0   Movie   object\n",
      " 1   User    object\n",
      " 2   Score   object\n",
      "dtypes: object(3)\n",
      "memory usage: 132.8+ MB\n"
     ]
    }
   ],
   "source": [
    "final_df.info()"
   ]
  },
  {
   "cell_type": "code",
   "execution_count": 68,
   "id": "3e5db8bb",
   "metadata": {},
   "outputs": [
    {
     "data": {
      "text/html": [
       "<div>\n",
       "<style scoped>\n",
       "    .dataframe tbody tr th:only-of-type {\n",
       "        vertical-align: middle;\n",
       "    }\n",
       "\n",
       "    .dataframe tbody tr th {\n",
       "        vertical-align: top;\n",
       "    }\n",
       "\n",
       "    .dataframe thead th {\n",
       "        text-align: right;\n",
       "    }\n",
       "</style>\n",
       "<table border=\"1\" class=\"dataframe\">\n",
       "  <thead>\n",
       "    <tr style=\"text-align: right;\">\n",
       "      <th></th>\n",
       "      <th>Movie</th>\n",
       "      <th>User</th>\n",
       "      <th>Score</th>\n",
       "    </tr>\n",
       "  </thead>\n",
       "  <tbody>\n",
       "    <tr>\n",
       "      <th>0</th>\n",
       "      <td>B003AI2VGA</td>\n",
       "      <td>A1I7QGUDP043DG</td>\n",
       "      <td>5.0</td>\n",
       "    </tr>\n",
       "    <tr>\n",
       "      <th>1</th>\n",
       "      <td>B00006HAXW</td>\n",
       "      <td>AD4CDZK7D31XP</td>\n",
       "      <td>5.0</td>\n",
       "    </tr>\n",
       "    <tr>\n",
       "      <th>2</th>\n",
       "      <td>B00006HAXW</td>\n",
       "      <td>A3Q4S5DFVPB70D</td>\n",
       "      <td>5.0</td>\n",
       "    </tr>\n",
       "    <tr>\n",
       "      <th>3</th>\n",
       "      <td>B00006HAXW</td>\n",
       "      <td>A2P7UB02HAVEPB</td>\n",
       "      <td>5.0</td>\n",
       "    </tr>\n",
       "    <tr>\n",
       "      <th>4</th>\n",
       "      <td>B00006HAXW</td>\n",
       "      <td>A2TX99AZKDK0V7</td>\n",
       "      <td>4.0</td>\n",
       "    </tr>\n",
       "    <tr>\n",
       "      <th>5</th>\n",
       "      <td>B00006HAXW</td>\n",
       "      <td>AFC8IKR407HSK</td>\n",
       "      <td>5.0</td>\n",
       "    </tr>\n",
       "    <tr>\n",
       "      <th>6</th>\n",
       "      <td>B00006HAXW</td>\n",
       "      <td>A1FRPGQYQTAOR1</td>\n",
       "      <td>5.0</td>\n",
       "    </tr>\n",
       "    <tr>\n",
       "      <th>7</th>\n",
       "      <td>B00006HAXW</td>\n",
       "      <td>A1RSDE90N6RSZF</td>\n",
       "      <td>5.0</td>\n",
       "    </tr>\n",
       "    <tr>\n",
       "      <th>8</th>\n",
       "      <td>B00006HAXW</td>\n",
       "      <td>A1OUBOGB5970AO</td>\n",
       "      <td>4.0</td>\n",
       "    </tr>\n",
       "    <tr>\n",
       "      <th>9</th>\n",
       "      <td>B00006HAXW</td>\n",
       "      <td>A3NPHQVIY59Y0Y</td>\n",
       "      <td>5.0</td>\n",
       "    </tr>\n",
       "  </tbody>\n",
       "</table>\n",
       "</div>"
      ],
      "text/plain": [
       "        Movie            User Score\n",
       "0  B003AI2VGA  A1I7QGUDP043DG   5.0\n",
       "1  B00006HAXW   AD4CDZK7D31XP   5.0\n",
       "2  B00006HAXW  A3Q4S5DFVPB70D   5.0\n",
       "3  B00006HAXW  A2P7UB02HAVEPB   5.0\n",
       "4  B00006HAXW  A2TX99AZKDK0V7   4.0\n",
       "5  B00006HAXW   AFC8IKR407HSK   5.0\n",
       "6  B00006HAXW  A1FRPGQYQTAOR1   5.0\n",
       "7  B00006HAXW  A1RSDE90N6RSZF   5.0\n",
       "8  B00006HAXW  A1OUBOGB5970AO   4.0\n",
       "9  B00006HAXW  A3NPHQVIY59Y0Y   5.0"
      ]
     },
     "execution_count": 68,
     "metadata": {},
     "output_type": "execute_result"
    }
   ],
   "source": [
    "final_df.head(10)"
   ]
  }
 ],
 "metadata": {
  "kernelspec": {
   "display_name": "Python 3 (ipykernel)",
   "language": "python",
   "name": "python3"
  },
  "language_info": {
   "codemirror_mode": {
    "name": "ipython",
    "version": 3
   },
   "file_extension": ".py",
   "mimetype": "text/x-python",
   "name": "python",
   "nbconvert_exporter": "python",
   "pygments_lexer": "ipython3",
   "version": "3.8.12"
  }
 },
 "nbformat": 4,
 "nbformat_minor": 5
}
