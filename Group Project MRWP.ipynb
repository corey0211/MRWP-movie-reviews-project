{
 "cells": [
  {
   "cell_type": "markdown",
   "id": "cf247aeb",
   "metadata": {},
   "source": [
    "# Preprocessing the Main Dataset"
   ]
  },
  {
   "cell_type": "code",
   "execution_count": 1,
   "id": "29d713a7",
   "metadata": {},
   "outputs": [],
   "source": [
    "import re\n",
    "import gzip\n",
    "import shutil\n",
    "import pandas as pd\n",
    "import matplotlib.pyplot as plt\n",
    "import itertools\n",
    "\n",
    "from time import sleep\n",
    "from tqdm import tqdm"
   ]
  },
  {
   "cell_type": "code",
   "execution_count": null,
   "id": "f25023f8",
   "metadata": {},
   "outputs": [],
   "source": [
    "# Writing the text file\n",
    "with gzip.open('movies.txt.gz', 'rb') as f_in:\n",
    "    with open('movies.txt', 'wb') as f_out:\n",
    "        shutil.copyfileobj(f_in, f_out)"
   ]
  },
  {
   "cell_type": "code",
   "execution_count": 3,
   "id": "133a5736",
   "metadata": {},
   "outputs": [],
   "source": [
    "# Opening the text file\n",
    "with open('movies.txt', errors='ignore') as f:\n",
    "    lines = f.readlines()"
   ]
  },
  {
   "cell_type": "code",
   "execution_count": null,
   "id": "c3a4d62c",
   "metadata": {},
   "outputs": [],
   "source": [
    "# Quick view into the file\n",
    "lines[:9]"
   ]
  },
  {
   "cell_type": "code",
   "execution_count": null,
   "id": "47e96a85",
   "metadata": {},
   "outputs": [],
   "source": [
    "array = np.zeros((len(lines)/9, 3), dtype=)\n",
    "index = 0\n",
    "for i, line in tqdm(enumerate(lines)):\n",
    "    if i%9 == 0:\n",
    "        index += 1\n",
    "    elif 'product/productId' in line:\n",
    "        cleaned_line = re.sub('product/productId: |\\n', \"\", line)\n",
    "        array[index][0] = cleaned_line\n",
    "    elif 'review/userId' in line:\n",
    "        cleaned_line = re.sub('review/userId: |\\n', \"\", line)\n",
    "        array[index][1] = cleaned_line\n",
    "    elif 'review/score' in line:\n",
    "        cleaned_line = re.sub('review/score: |\\n', \"\", line)\n",
    "        array[index][2] = cleaned_line\n",
    "    else:\n",
    "        continue"
   ]
  },
  {
   "cell_type": "code",
   "execution_count": 4,
   "id": "a097f8d7",
   "metadata": {},
   "outputs": [],
   "source": [
    "# Keeping only the lines which contain the product ID, the reviewer ID and the rating\n",
    "clean_reviews = [line for line in lines if re.findall(r\"product/productId|review/userId|review/score\", line) != []]"
   ]
  },
  {
   "cell_type": "code",
   "execution_count": null,
   "id": "2cafc15b",
   "metadata": {},
   "outputs": [],
   "source": [
    "# Quick look into the filtered dataset\n",
    "clean_reviews[:9]"
   ]
  },
  {
   "cell_type": "code",
   "execution_count": null,
   "id": "ca1dd323",
   "metadata": {},
   "outputs": [],
   "source": [
    "# Counting the number of each of the three categories\n",
    "num_prodcts = len([line for line in clean_reviews if \"product/productId\" in line])\n",
    "num_users = len([line for line in clean_reviews if \"review/userId\" in line])\n",
    "num_score = len([line for line in clean_reviews if \"review/score\" in line])\n",
    "# Checking if there are the same amount of elements in each category (rough checking that reviews are complete)\n",
    "if num_prodcts == num_users == num_score:\n",
    "    print(num_prodcts, \"complete reviews with each three pieces of information\")"
   ]
  },
  {
   "cell_type": "code",
   "execution_count": 5,
   "id": "43108478",
   "metadata": {},
   "outputs": [],
   "source": [
    "# Cleaning the remaining lines, removing \"\\n\" at end of the lines and category names in front\n",
    "cat_list = ['product/productId: ', 'review/userId: ', 'review/score: ', '\\n']   \n",
    "final = [re.sub(\"|\".join(cat_list), \"\", line) for line in clean_reviews]"
   ]
  },
  {
   "cell_type": "code",
   "execution_count": 6,
   "id": "d19a47d6",
   "metadata": {},
   "outputs": [],
   "source": [
    "# !! This code line takes really long to run\n",
    "# Grouping lines into list of three elements corresponding to one review\n",
    "chunks = [final[i:i+3] for i in range(0, len(final), 3)]"
   ]
  },
  {
   "cell_type": "code",
   "execution_count": null,
   "id": "ccf44026",
   "metadata": {},
   "outputs": [],
   "source": [
    "# Quick look at the new format\n",
    "chunks[:3]"
   ]
  },
  {
   "cell_type": "code",
   "execution_count": 34,
   "id": "99d17aad",
   "metadata": {},
   "outputs": [],
   "source": [
    "# Counting the number of different movies, users and ratings\n",
    "all_movies = set([rvw[0] for rvw in chunks])\n",
    "all_users = set([rvw[1] for rvw in chunks])\n",
    "all_stars = set([rvw[2] for rvw in chunks])"
   ]
  },
  {
   "cell_type": "code",
   "execution_count": 35,
   "id": "04cd0322",
   "metadata": {},
   "outputs": [
    {
     "name": "stdout",
     "output_type": "stream",
     "text": [
      "Number of different movies reviewed: 253059\n",
      "Number of different users: 889176\n",
      "Number of different scores: 5\n"
     ]
    }
   ],
   "source": [
    "print(\"Number of different movies reviewed:\", len(all_movies))\n",
    "print(\"Number of different users:\", len(all_users))\n",
    "print(\"Number of different scores:\", len(all_stars))"
   ]
  },
  {
   "cell_type": "code",
   "execution_count": null,
   "id": "21ebfcbc",
   "metadata": {},
   "outputs": [],
   "source": [
    "# Ratings go from 1 to 5\n",
    "all_stars"
   ]
  },
  {
   "cell_type": "code",
   "execution_count": 8,
   "id": "99eef4e8",
   "metadata": {},
   "outputs": [],
   "source": [
    "# Filtering out the bad reviews = 1 or 2 (soft method)\n",
    "good_reviews = [rvw for rvw in chunks if rvw[2]!='1.0' and rvw[2]!='2.0']"
   ]
  },
  {
   "cell_type": "code",
   "execution_count": null,
   "id": "fe3142fd",
   "metadata": {},
   "outputs": [],
   "source": [
    "len(good_reviews) "
   ]
  },
  {
   "cell_type": "code",
   "execution_count": 9,
   "id": "4dbb2184",
   "metadata": {},
   "outputs": [
    {
     "data": {
      "text/plain": [
       "6035359"
      ]
     },
     "execution_count": 9,
     "metadata": {},
     "output_type": "execute_result"
    }
   ],
   "source": [
    "# ALternative filtering where good reviews only 4 or 5 (hard method)\n",
    "good_reviews_alt = [rvw for rvw in good_reviews if rvw[2]!='3.0']\n",
    "len(good_reviews_alt)"
   ]
  },
  {
   "cell_type": "code",
   "execution_count": null,
   "id": "020bf55d",
   "metadata": {},
   "outputs": [],
   "source": [
    "# !! Similar as above\n",
    "# Organising good reviews by user, ineffective method not used\n",
    "review_dict = [{rvw[1]: [rvw[0], rvw[2]]} for rvw in good_reviews_alt]"
   ]
  },
  {
   "cell_type": "code",
   "execution_count": 10,
   "id": "2b360477",
   "metadata": {},
   "outputs": [],
   "source": [
    "# Create a dataframe with the data\n",
    "df = pd.DataFrame(good_reviews_alt, columns=[\"Movie\", \"User\", \"Score\"])"
   ]
  },
  {
   "cell_type": "code",
   "execution_count": null,
   "id": "361eacc4",
   "metadata": {},
   "outputs": [],
   "source": [
    "df.head(10)"
   ]
  },
  {
   "cell_type": "code",
   "execution_count": 11,
   "id": "755ac66e",
   "metadata": {},
   "outputs": [],
   "source": [
    "# Number of times one user appears (= how many reviews by the user)\n",
    "num_rvw_users = df['User'].value_counts()"
   ]
  },
  {
   "cell_type": "code",
   "execution_count": null,
   "id": "15b81cbb",
   "metadata": {},
   "outputs": [],
   "source": [
    "len(df['User'])"
   ]
  },
  {
   "cell_type": "code",
   "execution_count": 39,
   "id": "2c55868c",
   "metadata": {},
   "outputs": [
    {
     "name": "stdout",
     "output_type": "stream",
     "text": [
      "738205\n"
     ]
    },
    {
     "data": {
      "text/plain": [
       "A16CZRQL23NOIW    10151\n",
       "A2NJO6YE954DBH     8127\n",
       "A10ODC971MDHV8     7548\n",
       "A35ZK3M8L9JUPX     7507\n",
       "A39CX0EE4BZCZC     6641\n",
       "ANCOMAI0I7LVG      6585\n",
       "A328S9RN3U5M68     6085\n",
       "A3LZGLA88K0LA0     5880\n",
       "A3UDYY6L2NH3JS     5737\n",
       "AIMR915K4YCN       5674\n",
       "Name: User, dtype: int64"
      ]
     },
     "execution_count": 39,
     "metadata": {},
     "output_type": "execute_result"
    }
   ],
   "source": [
    "# Look at most reviews\n",
    "print(len(num_rvw_users))\n",
    "num_rvw_users[:10]"
   ]
  },
  {
   "cell_type": "code",
   "execution_count": 12,
   "id": "01ff2c17",
   "metadata": {},
   "outputs": [],
   "source": [
    "# Create a dictionary of user as key and number of reviews as value\n",
    "dict_user = dict(num_rvw_users)"
   ]
  },
  {
   "cell_type": "code",
   "execution_count": 13,
   "id": "217f23e9",
   "metadata": {},
   "outputs": [
    {
     "data": {
      "text/plain": [
       "505797"
      ]
     },
     "execution_count": 13,
     "metadata": {},
     "output_type": "execute_result"
    }
   ],
   "source": [
    "# All keys of reviewers with more than one review\n",
    "over_one = [key for key in dict_user.keys() if dict_user[key]!=1]\n",
    "len(over_one)"
   ]
  },
  {
   "cell_type": "code",
   "execution_count": 14,
   "id": "547cf2bf",
   "metadata": {},
   "outputs": [],
   "source": [
    "# The final preprocessed and filtered dataframe with only the good reviews and users with more than one review\n",
    "final_df = df[df['User'].isin(over_one)].reset_index(drop=True)"
   ]
  },
  {
   "cell_type": "code",
   "execution_count": null,
   "id": "355d1a89",
   "metadata": {},
   "outputs": [],
   "source": [
    "final_df.info()"
   ]
  },
  {
   "cell_type": "code",
   "execution_count": 36,
   "id": "b933919b",
   "metadata": {},
   "outputs": [],
   "source": [
    "# Saving the dataframe\n",
    "final_df.to_csv('PositiveReviews.csv')"
   ]
  },
  {
   "cell_type": "code",
   "execution_count": 113,
   "id": "58025dda",
   "metadata": {},
   "outputs": [
    {
     "data": {
      "text/html": [
       "<div>\n",
       "<style scoped>\n",
       "    .dataframe tbody tr th:only-of-type {\n",
       "        vertical-align: middle;\n",
       "    }\n",
       "\n",
       "    .dataframe tbody tr th {\n",
       "        vertical-align: top;\n",
       "    }\n",
       "\n",
       "    .dataframe thead th {\n",
       "        text-align: right;\n",
       "    }\n",
       "</style>\n",
       "<table border=\"1\" class=\"dataframe\">\n",
       "  <thead>\n",
       "    <tr style=\"text-align: right;\">\n",
       "      <th></th>\n",
       "      <th>Movie</th>\n",
       "      <th>User</th>\n",
       "      <th>Score</th>\n",
       "    </tr>\n",
       "  </thead>\n",
       "  <tbody>\n",
       "    <tr>\n",
       "      <th>0</th>\n",
       "      <td>B003AI2VGA</td>\n",
       "      <td>A1I7QGUDP043DG</td>\n",
       "      <td>5.0</td>\n",
       "    </tr>\n",
       "    <tr>\n",
       "      <th>1</th>\n",
       "      <td>B00006HAXW</td>\n",
       "      <td>AD4CDZK7D31XP</td>\n",
       "      <td>5.0</td>\n",
       "    </tr>\n",
       "    <tr>\n",
       "      <th>2</th>\n",
       "      <td>B00006HAXW</td>\n",
       "      <td>A3Q4S5DFVPB70D</td>\n",
       "      <td>5.0</td>\n",
       "    </tr>\n",
       "    <tr>\n",
       "      <th>3</th>\n",
       "      <td>B00006HAXW</td>\n",
       "      <td>A2P7UB02HAVEPB</td>\n",
       "      <td>5.0</td>\n",
       "    </tr>\n",
       "    <tr>\n",
       "      <th>4</th>\n",
       "      <td>B00006HAXW</td>\n",
       "      <td>A2TX99AZKDK0V7</td>\n",
       "      <td>4.0</td>\n",
       "    </tr>\n",
       "  </tbody>\n",
       "</table>\n",
       "</div>"
      ],
      "text/plain": [
       "        Movie            User Score\n",
       "0  B003AI2VGA  A1I7QGUDP043DG   5.0\n",
       "1  B00006HAXW   AD4CDZK7D31XP   5.0\n",
       "2  B00006HAXW  A3Q4S5DFVPB70D   5.0\n",
       "3  B00006HAXW  A2P7UB02HAVEPB   5.0\n",
       "4  B00006HAXW  A2TX99AZKDK0V7   4.0"
      ]
     },
     "execution_count": 113,
     "metadata": {},
     "output_type": "execute_result"
    }
   ],
   "source": [
    "final_df.head()"
   ]
  },
  {
   "cell_type": "code",
   "execution_count": 146,
   "id": "b181a803",
   "metadata": {},
   "outputs": [
    {
     "data": {
      "text/plain": [
       "5802951"
      ]
     },
     "execution_count": 146,
     "metadata": {},
     "output_type": "execute_result"
    }
   ],
   "source": [
    "len(final_df)"
   ]
  },
  {
   "cell_type": "markdown",
   "id": "fa9da7f1",
   "metadata": {},
   "source": [
    "## Prepare the Dataset with the Genres"
   ]
  },
  {
   "cell_type": "code",
   "execution_count": 111,
   "id": "8e3fe759",
   "metadata": {},
   "outputs": [
    {
     "data": {
      "text/html": [
       "<div>\n",
       "<style scoped>\n",
       "    .dataframe tbody tr th:only-of-type {\n",
       "        vertical-align: middle;\n",
       "    }\n",
       "\n",
       "    .dataframe tbody tr th {\n",
       "        vertical-align: top;\n",
       "    }\n",
       "\n",
       "    .dataframe thead th {\n",
       "        text-align: right;\n",
       "    }\n",
       "</style>\n",
       "<table border=\"1\" class=\"dataframe\">\n",
       "  <thead>\n",
       "    <tr style=\"text-align: right;\">\n",
       "      <th></th>\n",
       "      <th>Movie</th>\n",
       "      <th>Category</th>\n",
       "    </tr>\n",
       "  </thead>\n",
       "  <tbody>\n",
       "    <tr>\n",
       "      <th>0</th>\n",
       "      <td>B0029Z8KCY</td>\n",
       "      <td>['Movies &amp; TV', 'Boxed Sets', 'Anime']</td>\n",
       "    </tr>\n",
       "    <tr>\n",
       "      <th>1</th>\n",
       "      <td>B00004CQT3</td>\n",
       "      <td>['Movies &amp; TV', 'Genre for Featured Categories...</td>\n",
       "    </tr>\n",
       "    <tr>\n",
       "      <th>2</th>\n",
       "      <td>B00004CQT4</td>\n",
       "      <td>['Movies &amp; TV', 'Genre for Featured Categories...</td>\n",
       "    </tr>\n",
       "    <tr>\n",
       "      <th>3</th>\n",
       "      <td>B006JIUN2W</td>\n",
       "      <td>[]</td>\n",
       "    </tr>\n",
       "    <tr>\n",
       "      <th>4</th>\n",
       "      <td>B004MPGBHK</td>\n",
       "      <td>[]</td>\n",
       "    </tr>\n",
       "  </tbody>\n",
       "</table>\n",
       "</div>"
      ],
      "text/plain": [
       "        Movie                                           Category\n",
       "0  B0029Z8KCY             ['Movies & TV', 'Boxed Sets', 'Anime']\n",
       "1  B00004CQT3  ['Movies & TV', 'Genre for Featured Categories...\n",
       "2  B00004CQT4  ['Movies & TV', 'Genre for Featured Categories...\n",
       "3  B006JIUN2W                                                 []\n",
       "4  B004MPGBHK                                                 []"
      ]
     },
     "execution_count": 111,
     "metadata": {},
     "output_type": "execute_result"
    }
   ],
   "source": [
    "genre_df = pd.read_csv(\"labels.csv\", names=['Movie', 'Category'])\n",
    "genre_df.head()"
   ]
  },
  {
   "cell_type": "code",
   "execution_count": 139,
   "id": "e998ce8b",
   "metadata": {},
   "outputs": [
    {
     "data": {
      "text/plain": [
       "253059"
      ]
     },
     "execution_count": 139,
     "metadata": {},
     "output_type": "execute_result"
    }
   ],
   "source": [
    "len(set(genre_df['Movie']))"
   ]
  },
  {
   "cell_type": "code",
   "execution_count": 164,
   "id": "857dd7e7",
   "metadata": {},
   "outputs": [
    {
     "data": {
      "text/html": [
       "<div>\n",
       "<style scoped>\n",
       "    .dataframe tbody tr th:only-of-type {\n",
       "        vertical-align: middle;\n",
       "    }\n",
       "\n",
       "    .dataframe tbody tr th {\n",
       "        vertical-align: top;\n",
       "    }\n",
       "\n",
       "    .dataframe thead th {\n",
       "        text-align: right;\n",
       "    }\n",
       "</style>\n",
       "<table border=\"1\" class=\"dataframe\">\n",
       "  <thead>\n",
       "    <tr style=\"text-align: right;\">\n",
       "      <th></th>\n",
       "      <th>Movie</th>\n",
       "      <th>Category</th>\n",
       "    </tr>\n",
       "  </thead>\n",
       "  <tbody>\n",
       "    <tr>\n",
       "      <th>0</th>\n",
       "      <td>B0029Z8KCY</td>\n",
       "      <td>['Movies &amp; TV', 'Boxed Sets', 'Anime']</td>\n",
       "    </tr>\n",
       "    <tr>\n",
       "      <th>1</th>\n",
       "      <td>B00004CQT3</td>\n",
       "      <td>['Movies &amp; TV', 'Genre for Featured Categories...</td>\n",
       "    </tr>\n",
       "    <tr>\n",
       "      <th>2</th>\n",
       "      <td>B00004CQT4</td>\n",
       "      <td>['Movies &amp; TV', 'Genre for Featured Categories...</td>\n",
       "    </tr>\n",
       "    <tr>\n",
       "      <th>3</th>\n",
       "      <td>B000009DX2</td>\n",
       "      <td>['Movies &amp; TV', 'Art House &amp; International']</td>\n",
       "    </tr>\n",
       "    <tr>\n",
       "      <th>4</th>\n",
       "      <td>B0071AD95K</td>\n",
       "      <td>['Movies &amp; TV', 'Genre for Featured Categories...</td>\n",
       "    </tr>\n",
       "  </tbody>\n",
       "</table>\n",
       "</div>"
      ],
      "text/plain": [
       "        Movie                                           Category\n",
       "0  B0029Z8KCY             ['Movies & TV', 'Boxed Sets', 'Anime']\n",
       "1  B00004CQT3  ['Movies & TV', 'Genre for Featured Categories...\n",
       "2  B00004CQT4  ['Movies & TV', 'Genre for Featured Categories...\n",
       "3  B000009DX2       ['Movies & TV', 'Art House & International']\n",
       "4  B0071AD95K  ['Movies & TV', 'Genre for Featured Categories..."
      ]
     },
     "execution_count": 164,
     "metadata": {},
     "output_type": "execute_result"
    }
   ],
   "source": [
    "# Filter out Items where no category is given\n",
    "cleaned_genre = genre_df.loc[(genre_df['Category']!='[]')].reset_index(drop=True)\n",
    "cleaned_genre.head()"
   ]
  },
  {
   "cell_type": "code",
   "execution_count": 165,
   "id": "56490325",
   "metadata": {},
   "outputs": [
    {
     "data": {
      "text/plain": [
       "\"['Movies & TV', 'Boxed Sets', 'Anime']\""
      ]
     },
     "execution_count": 165,
     "metadata": {},
     "output_type": "execute_result"
    }
   ],
   "source": [
    "labels = set(list(cleaned_genre[\"Category\"]))\n",
    "all_labels = list(cleaned_genre['Category'])\n",
    "len(labels)\n",
    "all_labels[0]"
   ]
  },
  {
   "cell_type": "code",
   "execution_count": 166,
   "id": "4e96bf2b",
   "metadata": {},
   "outputs": [
    {
     "data": {
      "text/plain": [
       "[['Movies & TV', ' ABC News', ' ABC News Classics'],\n",
       " ['Movies & TV', ' Art House & International', ' By Country', ' Sweden'],\n",
       " ['Books', ' Arts & Photography']]"
      ]
     },
     "execution_count": 166,
     "metadata": {},
     "output_type": "execute_result"
    }
   ],
   "source": [
    "lst = []\n",
    "for label in labels:\n",
    "    lbl = re.sub(\"\\[|\\]|\\\"|\\'\", \"\", label)\n",
    "    lst.append(lbl.split(\",\"))\n",
    "lst[:3]"
   ]
  },
  {
   "cell_type": "code",
   "execution_count": 167,
   "id": "822a778c",
   "metadata": {},
   "outputs": [
    {
     "name": "stdout",
     "output_type": "stream",
     "text": [
      "715\n"
     ]
    }
   ],
   "source": [
    "movies = [label for label in lst if label[0]==\"Movies & TV\"]\n",
    "print(len(movies))\n",
    "# print(movies)"
   ]
  },
  {
   "cell_type": "code",
   "execution_count": 131,
   "id": "5862c255",
   "metadata": {},
   "outputs": [
    {
     "name": "stdout",
     "output_type": "stream",
     "text": [
      "{'Health & Household', 'Movies & TV', 'CDs & Vinyl', 'Tools & Home Improvement', 'Toys & Games', 'Video Games', 'Home & Kitchen', 'Clothing', 'Industrial & Scientific', 'Beauty & Personal Care', 'Office Products', 'Books', 'Automotive', 'Electronics', 'Sports & Outdoors', 'Arts', 'Cell Phones & Accessories', 'Software', 'Musical Instruments', 'Patio', 'Pet Supplies', 'Grocery & Gourmet Food'}\n"
     ]
    }
   ],
   "source": [
    "all_cat = set([l[0] for l in lst])\n",
    "len(all_cat)\n",
    "print(all_cat)"
   ]
  },
  {
   "cell_type": "code",
   "execution_count": 123,
   "id": "7b81abf8",
   "metadata": {},
   "outputs": [
    {
     "data": {
      "text/html": [
       "<div>\n",
       "<style scoped>\n",
       "    .dataframe tbody tr th:only-of-type {\n",
       "        vertical-align: middle;\n",
       "    }\n",
       "\n",
       "    .dataframe tbody tr th {\n",
       "        vertical-align: top;\n",
       "    }\n",
       "\n",
       "    .dataframe thead th {\n",
       "        text-align: right;\n",
       "    }\n",
       "</style>\n",
       "<table border=\"1\" class=\"dataframe\">\n",
       "  <thead>\n",
       "    <tr style=\"text-align: right;\">\n",
       "      <th></th>\n",
       "      <th>Movie</th>\n",
       "      <th>Clean Categories</th>\n",
       "    </tr>\n",
       "  </thead>\n",
       "  <tbody>\n",
       "    <tr>\n",
       "      <th>0</th>\n",
       "      <td>B0029Z8KCY</td>\n",
       "      <td>[Movies &amp; TV,  Boxed Sets,  Anime]</td>\n",
       "    </tr>\n",
       "    <tr>\n",
       "      <th>1</th>\n",
       "      <td>B00004CQT3</td>\n",
       "      <td>[Movies &amp; TV,  Genre for Featured Categories, ...</td>\n",
       "    </tr>\n",
       "    <tr>\n",
       "      <th>2</th>\n",
       "      <td>B00004CQT4</td>\n",
       "      <td>[Movies &amp; TV,  Genre for Featured Categories, ...</td>\n",
       "    </tr>\n",
       "    <tr>\n",
       "      <th>3</th>\n",
       "      <td>B000009DX2</td>\n",
       "      <td>[Movies &amp; TV,  Art House &amp; International]</td>\n",
       "    </tr>\n",
       "    <tr>\n",
       "      <th>4</th>\n",
       "      <td>B0071AD95K</td>\n",
       "      <td>[Movies &amp; TV,  Genre for Featured Categories, ...</td>\n",
       "    </tr>\n",
       "  </tbody>\n",
       "</table>\n",
       "</div>"
      ],
      "text/plain": [
       "        Movie                                   Clean Categories\n",
       "0  B0029Z8KCY                 [Movies & TV,  Boxed Sets,  Anime]\n",
       "1  B00004CQT3  [Movies & TV,  Genre for Featured Categories, ...\n",
       "2  B00004CQT4  [Movies & TV,  Genre for Featured Categories, ...\n",
       "3  B000009DX2          [Movies & TV,  Art House & International]\n",
       "4  B0071AD95K  [Movies & TV,  Genre for Featured Categories, ..."
      ]
     },
     "execution_count": 123,
     "metadata": {},
     "output_type": "execute_result"
    }
   ],
   "source": [
    "clean = [re.sub(\"\\[|\\]|\\\"|\\'\", \"\", label) for label in all_labels]\n",
    "cleaned_genre['Clean Categories'] = [label.split(',') for label in clean]\n",
    "cleaned_genre.head()"
   ]
  },
  {
   "cell_type": "code",
   "execution_count": 129,
   "id": "f4d987ec",
   "metadata": {},
   "outputs": [
    {
     "data": {
      "text/plain": [
       "['Movies & TV', ' Boxed Sets', ' Anime']"
      ]
     },
     "execution_count": 129,
     "metadata": {},
     "output_type": "execute_result"
    }
   ],
   "source": [
    "cleaned_genre['Clean Categories'][0]"
   ]
  },
  {
   "cell_type": "code",
   "execution_count": 136,
   "id": "bd46fffc",
   "metadata": {},
   "outputs": [
    {
     "data": {
      "text/html": [
       "<div>\n",
       "<style scoped>\n",
       "    .dataframe tbody tr th:only-of-type {\n",
       "        vertical-align: middle;\n",
       "    }\n",
       "\n",
       "    .dataframe tbody tr th {\n",
       "        vertical-align: top;\n",
       "    }\n",
       "\n",
       "    .dataframe thead th {\n",
       "        text-align: right;\n",
       "    }\n",
       "</style>\n",
       "<table border=\"1\" class=\"dataframe\">\n",
       "  <thead>\n",
       "    <tr style=\"text-align: right;\">\n",
       "      <th></th>\n",
       "      <th>Movie</th>\n",
       "      <th>Clean Categories</th>\n",
       "    </tr>\n",
       "  </thead>\n",
       "  <tbody>\n",
       "    <tr>\n",
       "      <th>0</th>\n",
       "      <td>B0029Z8KCY</td>\n",
       "      <td>[Movies &amp; TV,  Boxed Sets,  Anime]</td>\n",
       "    </tr>\n",
       "    <tr>\n",
       "      <th>1</th>\n",
       "      <td>B00004CQT3</td>\n",
       "      <td>[Movies &amp; TV,  Genre for Featured Categories, ...</td>\n",
       "    </tr>\n",
       "    <tr>\n",
       "      <th>2</th>\n",
       "      <td>B00004CQT4</td>\n",
       "      <td>[Movies &amp; TV,  Genre for Featured Categories, ...</td>\n",
       "    </tr>\n",
       "    <tr>\n",
       "      <th>3</th>\n",
       "      <td>B000009DX2</td>\n",
       "      <td>[Movies &amp; TV,  Art House &amp; International]</td>\n",
       "    </tr>\n",
       "    <tr>\n",
       "      <th>4</th>\n",
       "      <td>B0071AD95K</td>\n",
       "      <td>[Movies &amp; TV,  Genre for Featured Categories, ...</td>\n",
       "    </tr>\n",
       "    <tr>\n",
       "      <th>...</th>\n",
       "      <td>...</td>\n",
       "      <td>...</td>\n",
       "    </tr>\n",
       "    <tr>\n",
       "      <th>207880</th>\n",
       "      <td>B003FZW7VC</td>\n",
       "      <td>[Movies &amp; TV,  Genre for Featured Categories, ...</td>\n",
       "    </tr>\n",
       "    <tr>\n",
       "      <th>207881</th>\n",
       "      <td>B00447L4KA</td>\n",
       "      <td>[Movies &amp; TV,  Studio Specials,  Warner Home V...</td>\n",
       "    </tr>\n",
       "    <tr>\n",
       "      <th>207882</th>\n",
       "      <td>B003S1UNZU</td>\n",
       "      <td>[Movies &amp; TV,  Boxed Sets,  Documentary]</td>\n",
       "    </tr>\n",
       "    <tr>\n",
       "      <th>207883</th>\n",
       "      <td>B00008G1Y9</td>\n",
       "      <td>[Movies &amp; TV,  Studio Specials,  Warner Home V...</td>\n",
       "    </tr>\n",
       "    <tr>\n",
       "      <th>207884</th>\n",
       "      <td>B003F32YGC</td>\n",
       "      <td>[Movies &amp; TV,  Genre for Featured Categories, ...</td>\n",
       "    </tr>\n",
       "  </tbody>\n",
       "</table>\n",
       "<p>207885 rows × 2 columns</p>\n",
       "</div>"
      ],
      "text/plain": [
       "             Movie                                   Clean Categories\n",
       "0       B0029Z8KCY                 [Movies & TV,  Boxed Sets,  Anime]\n",
       "1       B00004CQT3  [Movies & TV,  Genre for Featured Categories, ...\n",
       "2       B00004CQT4  [Movies & TV,  Genre for Featured Categories, ...\n",
       "3       B000009DX2          [Movies & TV,  Art House & International]\n",
       "4       B0071AD95K  [Movies & TV,  Genre for Featured Categories, ...\n",
       "...            ...                                                ...\n",
       "207880  B003FZW7VC  [Movies & TV,  Genre for Featured Categories, ...\n",
       "207881  B00447L4KA  [Movies & TV,  Studio Specials,  Warner Home V...\n",
       "207882  B003S1UNZU           [Movies & TV,  Boxed Sets,  Documentary]\n",
       "207883  B00008G1Y9  [Movies & TV,  Studio Specials,  Warner Home V...\n",
       "207884  B003F32YGC  [Movies & TV,  Genre for Featured Categories, ...\n",
       "\n",
       "[207885 rows x 2 columns]"
      ]
     },
     "execution_count": 136,
     "metadata": {},
     "output_type": "execute_result"
    }
   ],
   "source": [
    "final_genre = cleaned_genre[cleaned_genre['Clean Categories'].isin(movies)].reset_index(drop=True)\n",
    "final_genre"
   ]
  },
  {
   "cell_type": "markdown",
   "id": "9bca0751",
   "metadata": {},
   "source": [
    "## Towards Merging the Information of both Datasets"
   ]
  },
  {
   "cell_type": "code",
   "execution_count": 137,
   "id": "7d2a063c",
   "metadata": {},
   "outputs": [],
   "source": [
    "lst_movies_df1 = set(final_df['Movie'])\n",
    "lst_movies_df2 = set(final_genre['Movie'])"
   ]
  },
  {
   "cell_type": "code",
   "execution_count": 138,
   "id": "6573fd4c",
   "metadata": {},
   "outputs": [
    {
     "name": "stdout",
     "output_type": "stream",
     "text": [
      "213341\n",
      "207885\n"
     ]
    }
   ],
   "source": [
    "print(len(lst_movies_df1))\n",
    "print(len(lst_movies_df2))"
   ]
  },
  {
   "cell_type": "code",
   "execution_count": 141,
   "id": "4771033c",
   "metadata": {},
   "outputs": [
    {
     "data": {
      "text/plain": [
       "5456"
      ]
     },
     "execution_count": 141,
     "metadata": {},
     "output_type": "execute_result"
    }
   ],
   "source": [
    "len(lst_movies_df1)-len(lst_movies_df2)"
   ]
  },
  {
   "cell_type": "code",
   "execution_count": 147,
   "id": "654af618",
   "metadata": {},
   "outputs": [
    {
     "data": {
      "text/plain": [
       "38399"
      ]
     },
     "execution_count": 147,
     "metadata": {},
     "output_type": "execute_result"
    }
   ],
   "source": [
    "not_movies = list(lst_movies_df1 - lst_movies_df2)\n",
    "len(not_movies)\n",
    "# not_movies[:10]"
   ]
  },
  {
   "cell_type": "code",
   "execution_count": 145,
   "id": "cc388520",
   "metadata": {},
   "outputs": [
    {
     "data": {
      "text/html": [
       "<div>\n",
       "<style scoped>\n",
       "    .dataframe tbody tr th:only-of-type {\n",
       "        vertical-align: middle;\n",
       "    }\n",
       "\n",
       "    .dataframe tbody tr th {\n",
       "        vertical-align: top;\n",
       "    }\n",
       "\n",
       "    .dataframe thead th {\n",
       "        text-align: right;\n",
       "    }\n",
       "</style>\n",
       "<table border=\"1\" class=\"dataframe\">\n",
       "  <thead>\n",
       "    <tr style=\"text-align: right;\">\n",
       "      <th></th>\n",
       "      <th>Movie</th>\n",
       "      <th>User</th>\n",
       "      <th>Score</th>\n",
       "    </tr>\n",
       "  </thead>\n",
       "  <tbody>\n",
       "    <tr>\n",
       "      <th>0</th>\n",
       "      <td>B00004CQT3</td>\n",
       "      <td>A34KFDQ5KBHZA5</td>\n",
       "      <td>5.0</td>\n",
       "    </tr>\n",
       "    <tr>\n",
       "      <th>1</th>\n",
       "      <td>B00004CQT3</td>\n",
       "      <td>A1CIW2OEVAJRM2</td>\n",
       "      <td>5.0</td>\n",
       "    </tr>\n",
       "    <tr>\n",
       "      <th>2</th>\n",
       "      <td>B00004CQT3</td>\n",
       "      <td>A1VJCDRXUQVXBM</td>\n",
       "      <td>5.0</td>\n",
       "    </tr>\n",
       "    <tr>\n",
       "      <th>3</th>\n",
       "      <td>B00004CQT3</td>\n",
       "      <td>A2IMLPUXYQJTSY</td>\n",
       "      <td>5.0</td>\n",
       "    </tr>\n",
       "    <tr>\n",
       "      <th>4</th>\n",
       "      <td>B00004CQT3</td>\n",
       "      <td>A1D12NAC1U12F0</td>\n",
       "      <td>5.0</td>\n",
       "    </tr>\n",
       "    <tr>\n",
       "      <th>...</th>\n",
       "      <td>...</td>\n",
       "      <td>...</td>\n",
       "      <td>...</td>\n",
       "    </tr>\n",
       "    <tr>\n",
       "      <th>4802661</th>\n",
       "      <td>B000GRUN4A</td>\n",
       "      <td>A3H4EBR4RZIB9Y</td>\n",
       "      <td>5.0</td>\n",
       "    </tr>\n",
       "    <tr>\n",
       "      <th>4802662</th>\n",
       "      <td>B003F32YGC</td>\n",
       "      <td>AOI2LGQR941L7</td>\n",
       "      <td>5.0</td>\n",
       "    </tr>\n",
       "    <tr>\n",
       "      <th>4802663</th>\n",
       "      <td>B003F32YGC</td>\n",
       "      <td>ACDKM2C99SFCP</td>\n",
       "      <td>5.0</td>\n",
       "    </tr>\n",
       "    <tr>\n",
       "      <th>4802664</th>\n",
       "      <td>6304952198</td>\n",
       "      <td>A23KKLV2CD39U8</td>\n",
       "      <td>4.0</td>\n",
       "    </tr>\n",
       "    <tr>\n",
       "      <th>4802665</th>\n",
       "      <td>6304952198</td>\n",
       "      <td>AIW7RUV8P2FK1</td>\n",
       "      <td>5.0</td>\n",
       "    </tr>\n",
       "  </tbody>\n",
       "</table>\n",
       "<p>4802666 rows × 3 columns</p>\n",
       "</div>"
      ],
      "text/plain": [
       "              Movie            User Score\n",
       "0        B00004CQT3  A34KFDQ5KBHZA5   5.0\n",
       "1        B00004CQT3  A1CIW2OEVAJRM2   5.0\n",
       "2        B00004CQT3  A1VJCDRXUQVXBM   5.0\n",
       "3        B00004CQT3  A2IMLPUXYQJTSY   5.0\n",
       "4        B00004CQT3  A1D12NAC1U12F0   5.0\n",
       "...             ...             ...   ...\n",
       "4802661  B000GRUN4A  A3H4EBR4RZIB9Y   5.0\n",
       "4802662  B003F32YGC   AOI2LGQR941L7   5.0\n",
       "4802663  B003F32YGC   ACDKM2C99SFCP   5.0\n",
       "4802664  6304952198  A23KKLV2CD39U8   4.0\n",
       "4802665  6304952198   AIW7RUV8P2FK1   5.0\n",
       "\n",
       "[4802666 rows x 3 columns]"
      ]
     },
     "execution_count": 145,
     "metadata": {},
     "output_type": "execute_result"
    }
   ],
   "source": [
    "clean_final = final_df[final_df['Movie'].isin(lst_movies_df2)].reset_index(drop=True)\n",
    "clean_final"
   ]
  },
  {
   "cell_type": "code",
   "execution_count": 148,
   "id": "64b01c76",
   "metadata": {},
   "outputs": [
    {
     "data": {
      "text/plain": [
       "Index(['Movie', 'Clean Categories', 'User', 'Score'], dtype='object')"
      ]
     },
     "execution_count": 148,
     "metadata": {},
     "output_type": "execute_result"
    }
   ],
   "source": [
    "complete_df = pd.merge(final_genre, clean_final)\n",
    "complete_df.columns"
   ]
  },
  {
   "cell_type": "code",
   "execution_count": 150,
   "id": "15a8e70c",
   "metadata": {},
   "outputs": [
    {
     "data": {
      "text/html": [
       "<div>\n",
       "<style scoped>\n",
       "    .dataframe tbody tr th:only-of-type {\n",
       "        vertical-align: middle;\n",
       "    }\n",
       "\n",
       "    .dataframe tbody tr th {\n",
       "        vertical-align: top;\n",
       "    }\n",
       "\n",
       "    .dataframe thead th {\n",
       "        text-align: right;\n",
       "    }\n",
       "</style>\n",
       "<table border=\"1\" class=\"dataframe\">\n",
       "  <thead>\n",
       "    <tr style=\"text-align: right;\">\n",
       "      <th></th>\n",
       "      <th>Movie</th>\n",
       "      <th>Clean Categories</th>\n",
       "      <th>User</th>\n",
       "      <th>Score</th>\n",
       "    </tr>\n",
       "  </thead>\n",
       "  <tbody>\n",
       "    <tr>\n",
       "      <th>0</th>\n",
       "      <td>B0029Z8KCY</td>\n",
       "      <td>[Movies &amp; TV,  Boxed Sets,  Anime]</td>\n",
       "      <td>AFV2584U13XP3</td>\n",
       "      <td>4.0</td>\n",
       "    </tr>\n",
       "    <tr>\n",
       "      <th>1</th>\n",
       "      <td>B00004CQT3</td>\n",
       "      <td>[Movies &amp; TV,  Genre for Featured Categories, ...</td>\n",
       "      <td>A34KFDQ5KBHZA5</td>\n",
       "      <td>5.0</td>\n",
       "    </tr>\n",
       "    <tr>\n",
       "      <th>2</th>\n",
       "      <td>B00004CQT3</td>\n",
       "      <td>[Movies &amp; TV,  Genre for Featured Categories, ...</td>\n",
       "      <td>A1CIW2OEVAJRM2</td>\n",
       "      <td>5.0</td>\n",
       "    </tr>\n",
       "    <tr>\n",
       "      <th>3</th>\n",
       "      <td>B00004CQT3</td>\n",
       "      <td>[Movies &amp; TV,  Genre for Featured Categories, ...</td>\n",
       "      <td>A1VJCDRXUQVXBM</td>\n",
       "      <td>5.0</td>\n",
       "    </tr>\n",
       "    <tr>\n",
       "      <th>4</th>\n",
       "      <td>B00004CQT3</td>\n",
       "      <td>[Movies &amp; TV,  Genre for Featured Categories, ...</td>\n",
       "      <td>A2IMLPUXYQJTSY</td>\n",
       "      <td>5.0</td>\n",
       "    </tr>\n",
       "  </tbody>\n",
       "</table>\n",
       "</div>"
      ],
      "text/plain": [
       "        Movie                                   Clean Categories  \\\n",
       "0  B0029Z8KCY                 [Movies & TV,  Boxed Sets,  Anime]   \n",
       "1  B00004CQT3  [Movies & TV,  Genre for Featured Categories, ...   \n",
       "2  B00004CQT3  [Movies & TV,  Genre for Featured Categories, ...   \n",
       "3  B00004CQT3  [Movies & TV,  Genre for Featured Categories, ...   \n",
       "4  B00004CQT3  [Movies & TV,  Genre for Featured Categories, ...   \n",
       "\n",
       "             User Score  \n",
       "0   AFV2584U13XP3   4.0  \n",
       "1  A34KFDQ5KBHZA5   5.0  \n",
       "2  A1CIW2OEVAJRM2   5.0  \n",
       "3  A1VJCDRXUQVXBM   5.0  \n",
       "4  A2IMLPUXYQJTSY   5.0  "
      ]
     },
     "execution_count": 150,
     "metadata": {},
     "output_type": "execute_result"
    }
   ],
   "source": [
    "complete_df.head(5)"
   ]
  },
  {
   "cell_type": "code",
   "execution_count": 151,
   "id": "5bc6d001",
   "metadata": {},
   "outputs": [
    {
     "data": {
      "text/plain": [
       "(4802666, 4)"
      ]
     },
     "execution_count": 151,
     "metadata": {},
     "output_type": "execute_result"
    }
   ],
   "source": [
    "complete_df.shape"
   ]
  },
  {
   "cell_type": "code",
   "execution_count": 185,
   "id": "0285df8f",
   "metadata": {
    "collapsed": true
   },
   "outputs": [
    {
     "data": {
      "text/plain": [
       "[[' ABC News', ' ABC News Classics'],\n",
       " [' Art House & International', ' By Country', ' Sweden'],\n",
       " [' Independently Distributed', ' Musicals & Performing Arts'],\n",
       " [' Jewish Heritage', ' Music & Dance'],\n",
       " [' Studio Specials',\n",
       "  ' Lionsgate Home Entertainment',\n",
       "  ' Lionsgate DVDs Under $10']]"
      ]
     },
     "execution_count": 185,
     "metadata": {},
     "output_type": "execute_result"
    }
   ],
   "source": [
    "type_movies = [mv[1:] for mv in movies]"
   ]
  },
  {
   "cell_type": "code",
   "execution_count": 191,
   "id": "219f621e",
   "metadata": {
    "collapsed": true
   },
   "outputs": [
    {
     "name": "stdout",
     "output_type": "stream",
     "text": [
      "{' Men in Black', ' Roger Moore', ' European Cinema', ' Disney Channel Series', ' Patricia Walden', ' Celine', ' Eve', ' Mystery & Thrillers', ' Chinese', ' CBS News', ' Alice', ' Gaiam', ' MGM Movie Time', ' Modern Adaptations', ' French New Wave', ' Arts & Entertainment', ' Harry Potter and the Order of the Phoenix', ' Megadeth', ' The Comedy Central Store', ' TLC', ' Joan of Arc', ' All Disney Titles', ' Pre & Post Natal', ' Anime & Manga', ' Widescreen', ' MGM Home Entertainment', ' Tai Chi', ' Groban', ' Valli', ' Czech', ' Simon', ' Eric', ' Mens Ice Hockey', ' Television', ' Vaughan', ' The Comedies', ' Bruce', ' Sarah', ' Lou', ' TV', ' Godsmack', ' All A&E Titles', ' Special Editions', ' Bon Jovi', ' Science Fiction & Fantasy', ' Celtic Woman', ' Focus Features', ' Religion', ' ABC TV Shows', ' Dune', ' Wall-E', ' FX', ' Docurama', ' By Animator', ' High-Definition DVDs', ' Dream Theater', ' MGM Midnite Movies', ' Sean Connery', ' King David', ' Deportes', ' Crow', ' Monster Movies', ' Martin', ' Osbourne', ' Willie', ' Jones', ' Independently Distributed', ' Drama', ' Metheny', ' Metallica', ' Sci-Fi & Fantasy', ' Italian', ' Estefan', ' Yoga', ' Crosby', ' uCl\\\\xe1sicos', ' Tupac', ' All MTV', ' Cirque du Soleil', ' Sports', ' Romance', ' Collectors Choice', ' Crime & Conspiracy', ' Eurythmics', ' Mingus', ' Shrek', ' Mens Basketball', ' Gillespie', ' Paul McCartney', ' Harry Potter and the Sorcerers Stone', ' Stephen Lynch', ' Military & War', ' Tweens', ' Harry Potter and the Prisoner of Azkaban', ' Classic TV', ' Top Sellers', ' Argentina', ' Foreign Spotlight', ' Shakur', ' Warner Video Bargains', ' Kids & Family', ' Riverdance', ' France', ' Lionsgate DVDs Under $10', ' Too Short', ' Lake & Palmer', ' Romantic', ' Planet of the Apes', ' Noah', ' Rock', ' All FX Shows', ' Iran', ' ABBA', ' The Shins', ' Lionsgate Home Entertainment', ' Basie', ' Other', ' German', ' FX Network', ' Christian Movies & TV', ' Haggard', ' Kelly', ' By Original Language', ' Playing Shakespeare', ' French', ' Twilight Zone DVDs', ' MGM Vintage Classics', ' Christmas', ' Military Channel', ' Germany', ' MGM Screen Epics', ' Historical Context', ' MGM Contemporary Classics', ' Brazil', ' Tool', ' Passport to Europe', ' American Masters Collection', ' Asian Cinema', ' Channels', ' Armstrong', ' Turner', ' MTV', ' Fitness', ' 20th Century Fox Home Entertainment', ' Horror', ' Norwegian', ' Shakespeare 101', ' Essential Art House', ' Study & Teaching Guides', ' uCine espa\\\\xf1ol', ' Travel Channel', ' Animation', ' Timothy Dalton & George Lazenby', ' Mystery', ' Shakespeare for Kids', ' 60 Minutes Store', ' Dance', ' The Works', ' Movies', ' All', ' Cuba', ' Scooby Doo', ' Mystery & Suspense', ' Landmark Cult Classics', ' Damien', ' The Histories', ' Buddy', ' Holidays & Seasonal', ' Fogerty', ' MGM Avant-Garde', ' Rieu', ' The Blues Brothers', ' Van Halen', ' Futuristic', ' Sci-Fi Action', ' DreamWorks', ' George Harrison', ' David', ' TV Game Shows', ' Turkey', ' Genesis', ' Collins', ' All MGM Titles', ' Characters & Series', ' Stand Up', ' Stevie Ray', ' Billy', ' Josh', ' George', ' Cult Movies', ' Computer Animation', ' Roy Orbison', ' Persian (Farsi)', ' Walt Disney Studios Home Entertainment', ' Lionsgate Indie Selects', ' The Tragedies', ' Victor', ' Dizzy', ' Billie', ' Charlie Rose Store', ' Musicals', ' Live Action', ' Roxy Music', ' Bee Gees', ' Film History & Film Making', ' Universal Studios Home Entertainment', ' Performing Arts', ' Documentary', ' Harry Potter', ' Dion', ' Sci Fi Channel', ' Educational', ' Olympics', ' Misterio y suspenso', ' Acting Troupes & Companies', ' Indie & Art House', ' Motley Crue', ' Cooking & Beverages', ' 7-9 Years', ' John Lennon', ' Pat', ' Classical', ' Carpenters', ' Hendrix', ' Jewish Heritage', ' Queen Esther', ' Keith', ' Collections & Documentaries', ' John Wayne Store', ' More to Explore', ' The Temptations', ' Janet', ' Sweden', ' Hallmark Home Video', ' Science & Technology', ' 4-for-3 DVD', ' Biography', ' Buena Vista Social Club', ' Wellspring Home Video', ' Jesus', ' Broadway', ' The Doors', ' Prince', ' Walt Disney Treasures', ' uAcci\\\\xf3n y aventura', ' Greek', ' Mens Wrestling', ' Robots & Androids', ' Johnny', ' Garth', ' Dutch', ' A&E Original Movies', ' 7-11 Years', ' Full Moon Video', ' Music & Dance', ' Aliens', ' Harry Potter and the Deathly Hallows', ' Art & Artists', ' Harry Potter and the Half-Blood Prince', ' Spanish Language', ' Taylor', ' Alien Saga', ' Zagreb School', ' Cooper', ' Miramax Home Entertainment', ' Charles', ' Sheryl', ' Jackson', ' General', ' Science Fiction', ' Health', ' LGBT', ' Chile & Peru', ' Vietnamese', ' Grateful Dead', ' Joel', ' Clapton', ' Madonna', ' Genre for Featured Categories', ' Andre', ' ABC News', ' Music', ' All HBO Titles', ' Space Adventure', ' Jane Austen on DVD Store', ' Ireland', ' 3-6 Years', ' Sundance Channel Home Entertainment', ' Comedia', ' Swedish', ' Studio Specials', ' Spears', ' Polish', ' Pierce Brosnan', ' Holiday', ' Womens Ice Hockey', ' Cream', ' Fox TV', ' All Lionsgate Titles', ' Jarrett', ' Dance & Music', ' Dave', ' Lilias Folan', ' India', ' Moses', ' Parker', ' Bowie', ' Animated Movies', ' Mexico', ' By Genre', ' Yoga Studios', ' All Fox Titles', ' Fox News', ' By Country', ' Springsteen', ' King', ' Vietnam', ' MGM Soul Cinema', ' Two-Disc Special Editions', ' NCAA on Demand', ' Finnish', ' Korea', ' Monsters & Mutants', ' Warner Home Video', ' Coldplay', ' 10-12 Years', ' Backstreet Boys', ' Ballet & Dance', ' Inspirational', ' Twain', ' ABC News Specials', ' Morrissey & The Smiths', ' Yes', ' New Yorker Films', ' N Sync', ' Elton', ' Denver', ' Sony Pictures Home Entertainment', ' Bible', ' Criterion Collection', ' Travel', ' Michael', ' Miramax Home Video', ' Princess Diaries', ' Paramount Home Entertainment', ' Anime', ' Bob', ' Phil', ' Japanese', ' Lifetime Original Movies', ' Middle East', ' All Showtime Titles', ' Queensryche', ' Category III', ' Russian', ' Monk', ' Reed', ' 20/20', ' AC/DC', ' Cartoon Network', ' Christian Video', ' Rush', ' Davis', ' A&E Home Video', ' Yoga Journal', ' Spain', ' Exercise & Fitness', ' Barry', ' Pixar', ' Politics', ' ABC News Classics', ' Johnson', ' DTS', ' African American Heritage', ' Scooby Doo Animated Movies', ' Cash', ' All Universal Studios Titles', ' Miles', ' Chicago', ' Portuguese', ' Collections', ' Breakthrough Cinema', ' MGM Western Legends', ' Christina', ' Godzilla', ' uTelevis\\\\xedon y documentales', ' uOscar\\\\xae Collection', ' Hungarian', ' TV News Programming', ' Carey', ' Hungary', ' Shakespeare on DVD Store', ' Broadways Lost Treasures', ' Wai Lana', ' Bryan Kest', ' New Line Platinum Series', ' Italy', ' Croatian', ' Brooks', ' WMV HD Store', ' Serbian', ' Australia & New Zealand', ' Reality TV', ' Iron Maiden', ' Alice in Chains', ' All New Yorker Titles', ' Russian Masters', ' Ellington', ' Action', ' Africa', ' Neil', ' Jackass', ' All Sundance Titles', ' Music & Performing Arts', ' Egypt', ' Scooby Doo Live Action Movies', ' Blaxploitation', ' British Television', ' Alien Invasion', ' uReligi\\\\xf3n', ' All Sony Pictures Titles', ' Subjects', ' Beastie Boys', ' Poland', ' Eagles', ' Faith & Spirituality', ' Disney Home Video', ' Harry Potter and the Chamber of Secrets', ' Classics Kids Love', ' Disney Channel Original Movies', ' All Sci Fi Channel Shows', ' Frankie', ' Infantil y familiar', ' Lionsgate DVDs Under $15', ' Rich', ' Sony Pictures Classics', ' Camp', ' CBS News Network', ' Jack', ' Animated Cartoons', ' British Cult Television', ' Box Sets', ' Jimi', ' Queen', ' Nature & Wildlife', ' Bruno Bozzetto', ' Count', ' History', ' uCiencia ficci\\\\xf3n y fantas\\\\xeda', ' Merle', ' Mariah', ' Music Videos & Concerts', ' Family Features', ' Adventures', ' Walt Disney Legacy Collection', ' Monty Python Store', ' Animal Planet', ' Dr. Dre', ' Womens Basketball', ' Dylan', ' Robert', ' Presley', ' World Class Cinema', ' Hindi', ' R.', ' Music Artists', ' Spanish', ' Exploitation', ' Russia', ' Gilmour', ' Broadway Theatre Archive', ' Made-for-TV Movies', ' Lions Gate Home Entertainment', ' UpClose', ' All BBC Titles', ' TV Talk Shows', ' James Bond', ' Mother Teresa', ' Iceland', ' Terminator', ' Stills & Nash', ' McLachlan', ' Marley', ' Canada', ' Critics Choice', ' By Instructor', ' For Seniors', ' China', ' Elvis', ' Action & Adventure', ' Spanish-Language', ' Engineering an Empire', ' Shania', ' MGM Musicals', ' Harry Potter and the Goblet of Fire', ' Suzanne Deason', ' African American Cinema', ' History Channel', ' BBC', ' Weird Al', ' Rodney Yee', ' Pink Floyd', ' Fleetwood Mac', ' NOVA', ' Hong Kong', ' Sting', ' Paul', ' Ultimate Editions', ' Louis', ' All Made-for-TV Movies', ' The Beatles', ' Easter', ' The Twilight Zone', ' Art House & International', ' Ozzy', ' Boxed Sets', ' Digital VHS', ' Pope', ' The Matrix', ' Subversive Cinema', ' United Kingdom', ' Stewart', ' U2', ' Ralph Bakshi', ' Coltrane', ' TV & Miniseries', ' Deep Purple', ' Denise Austin', ' Ringo Starr', ' Art', ' Stop-Motion & Clay Animation', ' Jewish Entertaining', ' The Judds', ' Tenacious D', ' Special Interests', ' Creedence Clearwater Revival', ' B.B.', ' Arabic', ' Eminem', ' Holocaust', ' Haunted History', ' Snoop Dogg', ' Manilow', ' Rice', ' Young', ' All Terminator', ' Timeless Holiday Favorites', ' Sci-Fi Series & Sequels', ' Blakey', ' The Rolling Stones', ' Blu-ray', ' PBS', ' Disney Channel', ' Miniseries', ' Duke', ' Vista Series', ' Borge', ' Classics', ' James', ' All Sony Pictures Classics', ' Nelson', ' Other Instructors', ' Thelonious', ' Aerosmith', ' For the Whole Family', ' The Who', ' Gift Sets', ' Danish', ' Santana', ' Primetime', ' Extended Editions', ' Ultimate Collectors Editions', ' Musicals & Performing Arts', ' MGM DVDs Under $15', ' Talking Heads', ' Prison', ' Priscilla Patrick', ' Comedy Central Roast', ' Discovery Channel', ' Emerson', ' Matthews', ' Muddy', ' Japan', ' KISS', ' Religion & Spirituality', ' Fitness & Yoga', ' Molly Fox', ' Comedy', ' Lionsgate DVDs Under $20', ' Waters', ' Star Wars', ' Gloria', ' Infinifilm Edition', ' Foreign Films', ' Charlie', ' Biographies', ' X-Men', ' Tina', ' Mary-Kate & Ashley', ' Animated Characters', ' Warner Archive', ' All Titles', ' Samurai Films', ' Buble', ' Taiwan', ' Czech Republic & Slovakia', ' MGM DVDs Under $20', ' Opera', ' Cops & Triads', ' Fantasy', ' Three Stooges', ' Jan Svankmajer', ' Fully Loaded DVDs', ' Showtime', ' Aguilera', ' Rod', ' Comedy Central Presents', ' Universal Media Discs', ' John', ' Silent Films', ' TV Series', ' Westerns', ' MOD CreateSpace Video', ' Music Video & Concerts', ' HBO', ' International', ' Chris', ' Yoga Zone', ' Mamoru Oshii', ' By Age', ' Ricky', ' Feature Films', ' Nightline', ' Music & Musicals', ' Princess Collection', ' Britney', ' Birth-2 Years'}\n"
     ]
    }
   ],
   "source": [
    "all_paths = set(list(itertools.chain(*type_movies)))"
   ]
  },
  {
   "cell_type": "code",
   "execution_count": 192,
   "id": "c4eb15ff",
   "metadata": {},
   "outputs": [],
   "source": [
    "complete_df.to_csv('CompleteDataWithGenres.csv')"
   ]
  },
  {
   "cell_type": "code",
   "execution_count": 197,
   "id": "a8231ef6",
   "metadata": {},
   "outputs": [
    {
     "data": {
      "text/plain": [
       "48027"
      ]
     },
     "execution_count": 197,
     "metadata": {},
     "output_type": "execute_result"
    }
   ],
   "source": [
    "small_df = complete_df.sample(frac=0.01, random_state=1)\n",
    "len(small_df)"
   ]
  },
  {
   "cell_type": "code",
   "execution_count": 198,
   "id": "875cdc59",
   "metadata": {},
   "outputs": [],
   "source": [
    "small_df.to_csv('1%SampleDataset.csv')"
   ]
  },
  {
   "cell_type": "markdown",
   "id": "53ed8508",
   "metadata": {},
   "source": [
    "## Reducing the Dataset Size by Genre"
   ]
  },
  {
   "cell_type": "code",
   "execution_count": 215,
   "id": "6d1009c9",
   "metadata": {},
   "outputs": [],
   "source": [
    "all_data = pd.read_csv(\"CompleteDataWithGenres.csv\") "
   ]
  },
  {
   "cell_type": "code",
   "execution_count": 11,
   "id": "82dc316e",
   "metadata": {},
   "outputs": [
    {
     "data": {
      "text/html": [
       "<div>\n",
       "<style scoped>\n",
       "    .dataframe tbody tr th:only-of-type {\n",
       "        vertical-align: middle;\n",
       "    }\n",
       "\n",
       "    .dataframe tbody tr th {\n",
       "        vertical-align: top;\n",
       "    }\n",
       "\n",
       "    .dataframe thead th {\n",
       "        text-align: right;\n",
       "    }\n",
       "</style>\n",
       "<table border=\"1\" class=\"dataframe\">\n",
       "  <thead>\n",
       "    <tr style=\"text-align: right;\">\n",
       "      <th></th>\n",
       "      <th>Unnamed: 0</th>\n",
       "      <th>Movie</th>\n",
       "      <th>Clean Categories</th>\n",
       "      <th>User</th>\n",
       "      <th>Score</th>\n",
       "    </tr>\n",
       "  </thead>\n",
       "  <tbody>\n",
       "    <tr>\n",
       "      <th>0</th>\n",
       "      <td>0</td>\n",
       "      <td>B0029Z8KCY</td>\n",
       "      <td>['Movies &amp; TV', ' Boxed Sets', ' Anime']</td>\n",
       "      <td>AFV2584U13XP3</td>\n",
       "      <td>4.0</td>\n",
       "    </tr>\n",
       "    <tr>\n",
       "      <th>1</th>\n",
       "      <td>1</td>\n",
       "      <td>B00004CQT3</td>\n",
       "      <td>['Movies &amp; TV', ' Genre for Featured Categorie...</td>\n",
       "      <td>A34KFDQ5KBHZA5</td>\n",
       "      <td>5.0</td>\n",
       "    </tr>\n",
       "    <tr>\n",
       "      <th>2</th>\n",
       "      <td>2</td>\n",
       "      <td>B00004CQT3</td>\n",
       "      <td>['Movies &amp; TV', ' Genre for Featured Categorie...</td>\n",
       "      <td>A1CIW2OEVAJRM2</td>\n",
       "      <td>5.0</td>\n",
       "    </tr>\n",
       "    <tr>\n",
       "      <th>3</th>\n",
       "      <td>3</td>\n",
       "      <td>B00004CQT3</td>\n",
       "      <td>['Movies &amp; TV', ' Genre for Featured Categorie...</td>\n",
       "      <td>A1VJCDRXUQVXBM</td>\n",
       "      <td>5.0</td>\n",
       "    </tr>\n",
       "    <tr>\n",
       "      <th>4</th>\n",
       "      <td>4</td>\n",
       "      <td>B00004CQT3</td>\n",
       "      <td>['Movies &amp; TV', ' Genre for Featured Categorie...</td>\n",
       "      <td>A2IMLPUXYQJTSY</td>\n",
       "      <td>5.0</td>\n",
       "    </tr>\n",
       "  </tbody>\n",
       "</table>\n",
       "</div>"
      ],
      "text/plain": [
       "   Unnamed: 0       Movie                                   Clean Categories  \\\n",
       "0           0  B0029Z8KCY           ['Movies & TV', ' Boxed Sets', ' Anime']   \n",
       "1           1  B00004CQT3  ['Movies & TV', ' Genre for Featured Categorie...   \n",
       "2           2  B00004CQT3  ['Movies & TV', ' Genre for Featured Categorie...   \n",
       "3           3  B00004CQT3  ['Movies & TV', ' Genre for Featured Categorie...   \n",
       "4           4  B00004CQT3  ['Movies & TV', ' Genre for Featured Categorie...   \n",
       "\n",
       "             User  Score  \n",
       "0   AFV2584U13XP3    4.0  \n",
       "1  A34KFDQ5KBHZA5    5.0  \n",
       "2  A1CIW2OEVAJRM2    5.0  \n",
       "3  A1VJCDRXUQVXBM    5.0  \n",
       "4  A2IMLPUXYQJTSY    5.0  "
      ]
     },
     "execution_count": 11,
     "metadata": {},
     "output_type": "execute_result"
    }
   ],
   "source": [
    "all_data.head()"
   ]
  },
  {
   "cell_type": "code",
   "execution_count": 16,
   "id": "9d9bc5ca",
   "metadata": {},
   "outputs": [],
   "source": [
    "the_movies = list(all_data[\"Clean Categories\"])"
   ]
  },
  {
   "cell_type": "code",
   "execution_count": 17,
   "id": "52762bab",
   "metadata": {},
   "outputs": [
    {
     "data": {
      "text/plain": [
       "[\"['Movies & TV', ' Boxed Sets', ' Anime']\",\n",
       " \"['Movies & TV', ' Genre for Featured Categories', ' Kids & Family']\",\n",
       " \"['Movies & TV', ' Genre for Featured Categories', ' Kids & Family']\",\n",
       " \"['Movies & TV', ' Genre for Featured Categories', ' Kids & Family']\",\n",
       " \"['Movies & TV', ' Genre for Featured Categories', ' Kids & Family']\"]"
      ]
     },
     "execution_count": 17,
     "metadata": {},
     "output_type": "execute_result"
    }
   ],
   "source": [
    "the_movies[:5]"
   ]
  },
  {
   "cell_type": "code",
   "execution_count": 18,
   "id": "bac4087a",
   "metadata": {},
   "outputs": [],
   "source": [
    "ctg = []\n",
    "for ca in the_movies:\n",
    "    c = re.sub(\"\\[|\\]|\\\"|\\'\", \"\", ca)\n",
    "    ctg.append(c.split(\",\"))"
   ]
  },
  {
   "cell_type": "code",
   "execution_count": 19,
   "id": "76287c58",
   "metadata": {},
   "outputs": [
    {
     "data": {
      "text/plain": [
       "[['Movies & TV', '  Boxed Sets', '  Anime'],\n",
       " ['Movies & TV', '  Genre for Featured Categories', '  Kids & Family'],\n",
       " ['Movies & TV', '  Genre for Featured Categories', '  Kids & Family'],\n",
       " ['Movies & TV', '  Genre for Featured Categories', '  Kids & Family'],\n",
       " ['Movies & TV', '  Genre for Featured Categories', '  Kids & Family']]"
      ]
     },
     "execution_count": 19,
     "metadata": {},
     "output_type": "execute_result"
    }
   ],
   "source": [
    "ctg[:5]"
   ]
  },
  {
   "cell_type": "code",
   "execution_count": 20,
   "id": "fb953896",
   "metadata": {},
   "outputs": [],
   "source": [
    "all_clean = [mv[1:] for mv in ctg]"
   ]
  },
  {
   "cell_type": "code",
   "execution_count": 32,
   "id": "7aa11bb5",
   "metadata": {},
   "outputs": [],
   "source": [
    "final_all_clean = []\n",
    "final_for_df = []\n",
    "for mv in all_clean:\n",
    "    mov = []\n",
    "    for c in mv:\n",
    "        it = c.strip()\n",
    "        mov.append(it)\n",
    "        final_all_clean.append(it)\n",
    "    final_for_df.append(mov)"
   ]
  },
  {
   "cell_type": "code",
   "execution_count": 34,
   "id": "b478ee23",
   "metadata": {},
   "outputs": [
    {
     "data": {
      "text/plain": [
       "[['Boxed Sets', 'Anime'],\n",
       " ['Genre for Featured Categories', 'Kids & Family'],\n",
       " ['Genre for Featured Categories', 'Kids & Family'],\n",
       " ['Genre for Featured Categories', 'Kids & Family'],\n",
       " ['Genre for Featured Categories', 'Kids & Family']]"
      ]
     },
     "execution_count": 34,
     "metadata": {},
     "output_type": "execute_result"
    }
   ],
   "source": [
    "final_for_df[:5]"
   ]
  },
  {
   "cell_type": "code",
   "execution_count": 26,
   "id": "1e629e8c",
   "metadata": {},
   "outputs": [],
   "source": [
    "from collections import Counter\n",
    "counts = Counter(final_all_clean)"
   ]
  },
  {
   "cell_type": "code",
   "execution_count": 204,
   "id": "3307de3f",
   "metadata": {},
   "outputs": [
    {
     "data": {
      "text/plain": [
       "[('Studio Specials', 1805893),\n",
       " ('Genre for Featured Categories', 1317997),\n",
       " ('All Titles', 566628),\n",
       " ('Warner Home Video', 518428),\n",
       " ('Drama', 469854),\n",
       " ('Action & Adventure', 440784),\n",
       " ('Science Fiction & Fantasy', 393545),\n",
       " ('Comedy', 391450),\n",
       " ('Science Fiction', 378263),\n",
       " ('20th Century Fox Home Entertainment', 363494),\n",
       " ('Sony Pictures Home Entertainment', 312043),\n",
       " ('All Sony Pictures Titles', 303072),\n",
       " ('Universal Studios Home Entertainment', 286539),\n",
       " ('All Universal Studios Titles', 286539),\n",
       " ('General', 224106),\n",
       " ('Paramount Home Entertainment', 201875),\n",
       " ('Animation', 198698),\n",
       " ('Art House & International', 184574),\n",
       " ('Action', 148033),\n",
       " ('MGM Home Entertainment', 139420),\n",
       " ('All MGM Titles', 137911),\n",
       " ('Kids & Family', 131610),\n",
       " ('Musicals', 122976),\n",
       " ('All Fox Titles', 119921),\n",
       " ('Lionsgate Home Entertainment', 112709),\n",
       " ('Horror', 112251),\n",
       " ('Musicals & Performing Arts', 109435),\n",
       " ('Movies', 107696),\n",
       " ('By Original Language', 96551),\n",
       " ('All Lionsgate Titles', 92090),\n",
       " ('Blu-ray', 91314),\n",
       " ('Fully Loaded DVDs', 88839),\n",
       " ('Boxed Sets', 88834),\n",
       " ('By Country', 77011),\n",
       " ('Independently Distributed', 76880),\n",
       " ('Documentary', 70992),\n",
       " ('Classics', 66598),\n",
       " ('German', 64776),\n",
       " ('Miramax Home Entertainment', 57905),\n",
       " ('Walt Disney Studios Home Entertainment', 56918),\n",
       " ('All Disney Titles', 52386),\n",
       " ('DTS', 49495),\n",
       " ('Fantasy', 41219),\n",
       " ('Exercise & Fitness', 37177),\n",
       " ('Music Artists', 36422),\n",
       " ('HBO', 35301),\n",
       " ('All HBO Titles', 35301),\n",
       " ('United Kingdom', 33240),\n",
       " ('Mystery & Thrillers', 33153),\n",
       " ('Christmas', 31850),\n",
       " ('Holidays & Seasonal', 31779),\n",
       " ('Cult Movies', 31025),\n",
       " ('Characters & Series', 30276),\n",
       " ('Sci-Fi Action', 29837),\n",
       " ('Special Editions', 27484),\n",
       " ('Harry Potter', 23989),\n",
       " ('All', 22951),\n",
       " ('BBC', 21598),\n",
       " ('All BBC Titles', 21567),\n",
       " ('Fox TV', 20951),\n",
       " ('Criterion Collection', 19407),\n",
       " ('Special Interests', 19350),\n",
       " ('Warner Video Bargains', 18271),\n",
       " ('A&E Home Video', 17712),\n",
       " ('Disney Home Video', 17635),\n",
       " ('Top Sellers', 17420),\n",
       " ('All A&E Titles', 17396),\n",
       " ('TV', 17143),\n",
       " ('Sports', 16260),\n",
       " ('Futuristic', 15675),\n",
       " ('Monsters & Mutants', 15094),\n",
       " ('Westerns', 15091),\n",
       " ('Spanish Language', 14721),\n",
       " ('Anime & Manga', 14492),\n",
       " ('Family Features', 14056),\n",
       " ('Classical', 13556),\n",
       " ('Shakespeare on DVD Store', 13223),\n",
       " ('Foreign Films', 12941),\n",
       " ('Aliens', 12430),\n",
       " ('Sci-Fi Series & Sequels', 12065),\n",
       " ('The Works', 11539),\n",
       " ('Silent Films', 11369),\n",
       " ('Widescreen', 11215),\n",
       " ('Music Videos & Concerts', 10823),\n",
       " ('Live Action', 9109),\n",
       " ('Feature Films', 8874),\n",
       " ('Sony Pictures Classics', 8746),\n",
       " ('Anime', 8545),\n",
       " ('Spanish', 8479),\n",
       " ('By Age', 8254),\n",
       " ('Japan', 8117),\n",
       " ('French', 8023),\n",
       " ('The Tragedies', 7983),\n",
       " ('Infantil y familiar', 7580),\n",
       " ('France', 7445),\n",
       " ('Universal Media Discs', 7136),\n",
       " ('The Beatles', 6925),\n",
       " ('John Wayne Store', 6754),\n",
       " ('Alien Invasion', 6051),\n",
       " ('By Genre', 5914)]"
      ]
     },
     "execution_count": 204,
     "metadata": {},
     "output_type": "execute_result"
    }
   ],
   "source": [
    "counts.most_common(100)"
   ]
  },
  {
   "cell_type": "code",
   "execution_count": 217,
   "id": "63cb9fc7",
   "metadata": {},
   "outputs": [],
   "source": [
    "# The following gives still aroung 2140243 reviews which is 44,56 % \n",
    "# defined_genres = ['Drama','Action & Adventure', 'Science Fiction & Fantasy', 'Comedy', 'Animation','Horror', 'Documentary', 'Musicals', 'Sports', 'Kids & Family']\n",
    "defined_genres = ['Action', 'Horror', 'Documentary', 'Musicals', 'Anime & Manga']\n",
    "length = [len(it) for it in defined_genres]"
   ]
  },
  {
   "cell_type": "code",
   "execution_count": 177,
   "id": "ae88148f",
   "metadata": {},
   "outputs": [
    {
     "data": {
      "text/plain": [
       "{5, 6, 8, 9, 11, 18}"
      ]
     },
     "execution_count": 177,
     "metadata": {},
     "output_type": "execute_result"
    }
   ],
   "source": [
    "length.sort()\n",
    "set(length)"
   ]
  },
  {
   "cell_type": "code",
   "execution_count": 218,
   "id": "065da5d8",
   "metadata": {},
   "outputs": [
    {
     "name": "stderr",
     "output_type": "stream",
     "text": [
      "100%|████████████████████████████████████████████████████████████████████| 4802666/4802666 [00:14<00:00, 339158.27it/s]\n"
     ]
    }
   ],
   "source": [
    "import random\n",
    "x = []\n",
    "for i in tqdm(final_for_df):\n",
    "    if any(it in i for it in defined_genres):\n",
    "        s = set(i) & set(defined_genres)\n",
    "        if len(s)==1:\n",
    "            x.append(\"\".join(s))\n",
    "        else:\n",
    "            x.append(\"\".join(random.sample(s, 1)))\n",
    "    else:\n",
    "        x.append(\"NaN\")"
   ]
  },
  {
   "cell_type": "code",
   "execution_count": 147,
   "id": "9ccdd5b5",
   "metadata": {},
   "outputs": [
    {
     "data": {
      "text/plain": [
       "['NaN', 'Kids & Family', 'Kids & Family', 'Kids & Family', 'Kids & Family']"
      ]
     },
     "execution_count": 147,
     "metadata": {},
     "output_type": "execute_result"
    }
   ],
   "source": [
    "x[:5]"
   ]
  },
  {
   "cell_type": "code",
   "execution_count": 179,
   "id": "9a1fde5f",
   "metadata": {},
   "outputs": [
    {
     "data": {
      "text/plain": [
       "{3, 5, 6, 8, 9, 11, 18}"
      ]
     },
     "execution_count": 179,
     "metadata": {},
     "output_type": "execute_result"
    }
   ],
   "source": [
    "xl = set([len(r) for r in x])\n",
    "xl"
   ]
  },
  {
   "cell_type": "code",
   "execution_count": 219,
   "id": "8a7aa8e9",
   "metadata": {},
   "outputs": [],
   "source": [
    "all_data['Clean Categories'] = x\n",
    "all_data.rename(columns = {'Clean Categories':'MovieGenre'}, inplace = True)"
   ]
  },
  {
   "cell_type": "code",
   "execution_count": 220,
   "id": "a11ae2bd",
   "metadata": {},
   "outputs": [
    {
     "data": {
      "text/html": [
       "<div>\n",
       "<style scoped>\n",
       "    .dataframe tbody tr th:only-of-type {\n",
       "        vertical-align: middle;\n",
       "    }\n",
       "\n",
       "    .dataframe tbody tr th {\n",
       "        vertical-align: top;\n",
       "    }\n",
       "\n",
       "    .dataframe thead th {\n",
       "        text-align: right;\n",
       "    }\n",
       "</style>\n",
       "<table border=\"1\" class=\"dataframe\">\n",
       "  <thead>\n",
       "    <tr style=\"text-align: right;\">\n",
       "      <th></th>\n",
       "      <th>Movie</th>\n",
       "      <th>MovieGenre</th>\n",
       "      <th>User</th>\n",
       "      <th>Score</th>\n",
       "    </tr>\n",
       "  </thead>\n",
       "  <tbody>\n",
       "    <tr>\n",
       "      <th>0</th>\n",
       "      <td>B000NDFLWG</td>\n",
       "      <td>Documentary</td>\n",
       "      <td>A3GYVMUS7SSDFW</td>\n",
       "      <td>5.0</td>\n",
       "    </tr>\n",
       "    <tr>\n",
       "      <th>1</th>\n",
       "      <td>B000NDFLWG</td>\n",
       "      <td>Documentary</td>\n",
       "      <td>AJYGQV81FSFE2</td>\n",
       "      <td>4.0</td>\n",
       "    </tr>\n",
       "    <tr>\n",
       "      <th>2</th>\n",
       "      <td>B000NDFLWG</td>\n",
       "      <td>Documentary</td>\n",
       "      <td>A39F5HLWQEZD7E</td>\n",
       "      <td>5.0</td>\n",
       "    </tr>\n",
       "    <tr>\n",
       "      <th>3</th>\n",
       "      <td>B000NDFLWG</td>\n",
       "      <td>Documentary</td>\n",
       "      <td>A21SBJ6QU1C4IX</td>\n",
       "      <td>5.0</td>\n",
       "    </tr>\n",
       "    <tr>\n",
       "      <th>4</th>\n",
       "      <td>B000NDFLWG</td>\n",
       "      <td>Documentary</td>\n",
       "      <td>A1TK6WNUIAEQRU</td>\n",
       "      <td>4.0</td>\n",
       "    </tr>\n",
       "    <tr>\n",
       "      <th>...</th>\n",
       "      <td>...</td>\n",
       "      <td>...</td>\n",
       "      <td>...</td>\n",
       "      <td>...</td>\n",
       "    </tr>\n",
       "    <tr>\n",
       "      <th>468739</th>\n",
       "      <td>B003S1UNZU</td>\n",
       "      <td>Documentary</td>\n",
       "      <td>A3KP81PWE0JH5E</td>\n",
       "      <td>5.0</td>\n",
       "    </tr>\n",
       "    <tr>\n",
       "      <th>468740</th>\n",
       "      <td>B003S1UNZU</td>\n",
       "      <td>Documentary</td>\n",
       "      <td>A3AD071UEP20WS</td>\n",
       "      <td>5.0</td>\n",
       "    </tr>\n",
       "    <tr>\n",
       "      <th>468741</th>\n",
       "      <td>B003S1UNZU</td>\n",
       "      <td>Documentary</td>\n",
       "      <td>A3IPZPME7QYQS6</td>\n",
       "      <td>5.0</td>\n",
       "    </tr>\n",
       "    <tr>\n",
       "      <th>468742</th>\n",
       "      <td>B003S1UNZU</td>\n",
       "      <td>Documentary</td>\n",
       "      <td>A1PNWMXODZ049K</td>\n",
       "      <td>5.0</td>\n",
       "    </tr>\n",
       "    <tr>\n",
       "      <th>468743</th>\n",
       "      <td>B003S1UNZU</td>\n",
       "      <td>Documentary</td>\n",
       "      <td>A1TYO8IC9950XA</td>\n",
       "      <td>5.0</td>\n",
       "    </tr>\n",
       "  </tbody>\n",
       "</table>\n",
       "<p>468744 rows × 4 columns</p>\n",
       "</div>"
      ],
      "text/plain": [
       "             Movie   MovieGenre            User  Score\n",
       "0       B000NDFLWG  Documentary  A3GYVMUS7SSDFW    5.0\n",
       "1       B000NDFLWG  Documentary   AJYGQV81FSFE2    4.0\n",
       "2       B000NDFLWG  Documentary  A39F5HLWQEZD7E    5.0\n",
       "3       B000NDFLWG  Documentary  A21SBJ6QU1C4IX    5.0\n",
       "4       B000NDFLWG  Documentary  A1TK6WNUIAEQRU    4.0\n",
       "...            ...          ...             ...    ...\n",
       "468739  B003S1UNZU  Documentary  A3KP81PWE0JH5E    5.0\n",
       "468740  B003S1UNZU  Documentary  A3AD071UEP20WS    5.0\n",
       "468741  B003S1UNZU  Documentary  A3IPZPME7QYQS6    5.0\n",
       "468742  B003S1UNZU  Documentary  A1PNWMXODZ049K    5.0\n",
       "468743  B003S1UNZU  Documentary  A1TYO8IC9950XA    5.0\n",
       "\n",
       "[468744 rows x 4 columns]"
      ]
     },
     "execution_count": 220,
     "metadata": {},
     "output_type": "execute_result"
    }
   ],
   "source": [
    "all_data = all_data[all_data.MovieGenre != \"NaN\"].reset_index(drop=True)\n",
    "all_data.drop([\"Unnamed: 0\"], axis=1)"
   ]
  },
  {
   "cell_type": "code",
   "execution_count": 221,
   "id": "da15e32d",
   "metadata": {},
   "outputs": [],
   "source": [
    "all_data.to_csv('10%Dataset.csv')"
   ]
  },
  {
   "cell_type": "markdown",
   "id": "973e5cce",
   "metadata": {},
   "source": [
    "## Dictionary with Movie as Key and Genre as Value"
   ]
  },
  {
   "cell_type": "code",
   "execution_count": 20,
   "id": "7b7bc449",
   "metadata": {},
   "outputs": [],
   "source": [
    "data_for_clusters =  pd.read_csv(\"10%Dataset.csv\") "
   ]
  },
  {
   "cell_type": "code",
   "execution_count": 21,
   "id": "554dd268",
   "metadata": {},
   "outputs": [
    {
     "data": {
      "text/html": [
       "<div>\n",
       "<style scoped>\n",
       "    .dataframe tbody tr th:only-of-type {\n",
       "        vertical-align: middle;\n",
       "    }\n",
       "\n",
       "    .dataframe tbody tr th {\n",
       "        vertical-align: top;\n",
       "    }\n",
       "\n",
       "    .dataframe thead th {\n",
       "        text-align: right;\n",
       "    }\n",
       "</style>\n",
       "<table border=\"1\" class=\"dataframe\">\n",
       "  <thead>\n",
       "    <tr style=\"text-align: right;\">\n",
       "      <th></th>\n",
       "      <th>Movie</th>\n",
       "      <th>MovieGenre</th>\n",
       "    </tr>\n",
       "  </thead>\n",
       "  <tbody>\n",
       "    <tr>\n",
       "      <th>0</th>\n",
       "      <td>B000NDFLWG</td>\n",
       "      <td>Documentary</td>\n",
       "    </tr>\n",
       "    <tr>\n",
       "      <th>1</th>\n",
       "      <td>B000NDFLWG</td>\n",
       "      <td>Documentary</td>\n",
       "    </tr>\n",
       "    <tr>\n",
       "      <th>2</th>\n",
       "      <td>B000NDFLWG</td>\n",
       "      <td>Documentary</td>\n",
       "    </tr>\n",
       "    <tr>\n",
       "      <th>3</th>\n",
       "      <td>B000NDFLWG</td>\n",
       "      <td>Documentary</td>\n",
       "    </tr>\n",
       "    <tr>\n",
       "      <th>4</th>\n",
       "      <td>B000NDFLWG</td>\n",
       "      <td>Documentary</td>\n",
       "    </tr>\n",
       "    <tr>\n",
       "      <th>5</th>\n",
       "      <td>B000NDFLWG</td>\n",
       "      <td>Documentary</td>\n",
       "    </tr>\n",
       "    <tr>\n",
       "      <th>6</th>\n",
       "      <td>B000NDFLWG</td>\n",
       "      <td>Documentary</td>\n",
       "    </tr>\n",
       "    <tr>\n",
       "      <th>7</th>\n",
       "      <td>B000NDFLWG</td>\n",
       "      <td>Documentary</td>\n",
       "    </tr>\n",
       "    <tr>\n",
       "      <th>8</th>\n",
       "      <td>B000NDFLWG</td>\n",
       "      <td>Documentary</td>\n",
       "    </tr>\n",
       "    <tr>\n",
       "      <th>9</th>\n",
       "      <td>B000NDFLWG</td>\n",
       "      <td>Documentary</td>\n",
       "    </tr>\n",
       "  </tbody>\n",
       "</table>\n",
       "</div>"
      ],
      "text/plain": [
       "        Movie   MovieGenre\n",
       "0  B000NDFLWG  Documentary\n",
       "1  B000NDFLWG  Documentary\n",
       "2  B000NDFLWG  Documentary\n",
       "3  B000NDFLWG  Documentary\n",
       "4  B000NDFLWG  Documentary\n",
       "5  B000NDFLWG  Documentary\n",
       "6  B000NDFLWG  Documentary\n",
       "7  B000NDFLWG  Documentary\n",
       "8  B000NDFLWG  Documentary\n",
       "9  B000NDFLWG  Documentary"
      ]
     },
     "execution_count": 21,
     "metadata": {},
     "output_type": "execute_result"
    }
   ],
   "source": [
    "data_for_clusters = data_for_clusters[[\"Movie\", \"MovieGenre\"]]\n",
    "data_for_clusters.head(10)"
   ]
  },
  {
   "cell_type": "code",
   "execution_count": 22,
   "id": "66322328",
   "metadata": {},
   "outputs": [
    {
     "data": {
      "text/html": [
       "<div>\n",
       "<style scoped>\n",
       "    .dataframe tbody tr th:only-of-type {\n",
       "        vertical-align: middle;\n",
       "    }\n",
       "\n",
       "    .dataframe tbody tr th {\n",
       "        vertical-align: top;\n",
       "    }\n",
       "\n",
       "    .dataframe thead th {\n",
       "        text-align: right;\n",
       "    }\n",
       "</style>\n",
       "<table border=\"1\" class=\"dataframe\">\n",
       "  <thead>\n",
       "    <tr style=\"text-align: right;\">\n",
       "      <th></th>\n",
       "      <th>Movie</th>\n",
       "      <th>MovieGenre</th>\n",
       "    </tr>\n",
       "  </thead>\n",
       "  <tbody>\n",
       "    <tr>\n",
       "      <th>0</th>\n",
       "      <td>B000NDFLWG</td>\n",
       "      <td>Documentary</td>\n",
       "    </tr>\n",
       "    <tr>\n",
       "      <th>1</th>\n",
       "      <td>B008FPU7AA</td>\n",
       "      <td>Horror</td>\n",
       "    </tr>\n",
       "    <tr>\n",
       "      <th>2</th>\n",
       "      <td>1562229567</td>\n",
       "      <td>Documentary</td>\n",
       "    </tr>\n",
       "    <tr>\n",
       "      <th>3</th>\n",
       "      <td>1888617047</td>\n",
       "      <td>Musicals</td>\n",
       "    </tr>\n",
       "    <tr>\n",
       "      <th>4</th>\n",
       "      <td>6305508569</td>\n",
       "      <td>Action</td>\n",
       "    </tr>\n",
       "    <tr>\n",
       "      <th>5</th>\n",
       "      <td>6304474415</td>\n",
       "      <td>Documentary</td>\n",
       "    </tr>\n",
       "    <tr>\n",
       "      <th>6</th>\n",
       "      <td>B0006FFRD4</td>\n",
       "      <td>Anime &amp; Manga</td>\n",
       "    </tr>\n",
       "    <tr>\n",
       "      <th>7</th>\n",
       "      <td>B003BUAP10</td>\n",
       "      <td>Documentary</td>\n",
       "    </tr>\n",
       "    <tr>\n",
       "      <th>8</th>\n",
       "      <td>B000BB1NFO</td>\n",
       "      <td>Documentary</td>\n",
       "    </tr>\n",
       "    <tr>\n",
       "      <th>9</th>\n",
       "      <td>B00020HBN2</td>\n",
       "      <td>Anime &amp; Manga</td>\n",
       "    </tr>\n",
       "  </tbody>\n",
       "</table>\n",
       "</div>"
      ],
      "text/plain": [
       "        Movie     MovieGenre\n",
       "0  B000NDFLWG    Documentary\n",
       "1  B008FPU7AA         Horror\n",
       "2  1562229567    Documentary\n",
       "3  1888617047       Musicals\n",
       "4  6305508569         Action\n",
       "5  6304474415    Documentary\n",
       "6  B0006FFRD4  Anime & Manga\n",
       "7  B003BUAP10    Documentary\n",
       "8  B000BB1NFO    Documentary\n",
       "9  B00020HBN2  Anime & Manga"
      ]
     },
     "execution_count": 22,
     "metadata": {},
     "output_type": "execute_result"
    }
   ],
   "source": [
    "dataclusters = data_for_clusters.drop_duplicates().reset_index(drop=True)\n",
    "dataclusters.head(10)"
   ]
  },
  {
   "cell_type": "code",
   "execution_count": 23,
   "id": "52a2357a",
   "metadata": {},
   "outputs": [
    {
     "name": "stdout",
     "output_type": "stream",
     "text": [
      "468744\n",
      "21788\n"
     ]
    }
   ],
   "source": [
    "print(len(data_for_clusters))\n",
    "print(len(dataclusters))"
   ]
  },
  {
   "cell_type": "code",
   "execution_count": 24,
   "id": "70ef78f3",
   "metadata": {},
   "outputs": [],
   "source": [
    "keys = dataclusters[\"Movie\"]\n",
    "values = dataclusters[\"MovieGenre\"]"
   ]
  },
  {
   "cell_type": "code",
   "execution_count": 25,
   "id": "2c98a30c",
   "metadata": {},
   "outputs": [],
   "source": [
    "dict_mvs_genre = dict(zip(keys, values))"
   ]
  }
 ],
 "metadata": {
  "kernelspec": {
   "display_name": "Python 3 (ipykernel)",
   "language": "python",
   "name": "python3"
  },
  "language_info": {
   "codemirror_mode": {
    "name": "ipython",
    "version": 3
   },
   "file_extension": ".py",
   "mimetype": "text/x-python",
   "name": "python",
   "nbconvert_exporter": "python",
   "pygments_lexer": "ipython3",
   "version": "3.8.12"
  }
 },
 "nbformat": 4,
 "nbformat_minor": 5
}
